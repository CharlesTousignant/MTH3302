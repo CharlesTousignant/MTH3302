{
 "cells": [
  {
   "cell_type": "markdown",
   "id": "131b624d",
   "metadata": {},
   "source": [
    "# MTH3302 : Méthodes probabilistes et statistiques pour l'I.A.\n",
    "\n",
    "Jonathan Jalbert<br/>\n",
    "Professeur adjoint au Département de mathématiques et de génie industriel<br/>\n",
    "Polytechnique Montréal<br/>\n",
    "\n",
    "\n",
    "Le projet a été préparé par Gabriel Gobeil, associé de recherche à Polytechnique Montréal.\n",
    "\n",
    "---\n",
    "# Projet A2022 : Récolte des cerfs de Virginie\n",
    "\n",
    "\n",
    "La description du projet est disponible à l'adresse suivante : https://www.kaggle.com/t/23b6d8c44f1247c78e19a6a902f804af\n",
    "\n",
    "Ce calepin Jupyter de base permet de charger et de nettoyer les données fournies. La dernière section détaille la génération du fichier des prédictions afin de le soumettre sur Kaggle dans le bon format.\n",
    "\n",
    "### Données\n",
    "\n",
    "Dans un premier temps, vous devrez récupérer les données sur Kaggle. Les fichiers disponibles sont les suivants :\n",
    "- recolte.csv\n",
    "- permis.csv\n",
    "- meteo.csv\n",
    "- essence.csv\n",
    "- test.csv\n",
    "\n",
    "**Déposez ces fichiers dans un dossier nommé *data* dans le répertoire de ce calepin.**\n",
    "\n",
    "Le fichier *recolte.csv* contient les statistiques de chasse au cerf de Viriginie. On y retrouve le nombre de cerfs mâles adultes récoltés annuellement dans certaines zones de chasse du Québec, listé selon le type d'engin utilisé.\n",
    "\n",
    "Le fichier *permis.csv* contient des informations sur le nombre de permis de chasse aux cerfs de Virginie alloués aux résidents et non-résidents de 1999 à 2020.\n",
    "\n",
    "Le fichier *meteo.csv* contient certaines variables météorologiques enregistrées à la station Montréal-Trudeau de 1999 à 2021 :\n",
    "- Mean Temp (°C)\t\n",
    "- Total Rain (mm)\t\n",
    "- Total Snow (cm)\t\n",
    "- Snow on Grnd (cm)\n",
    "\n",
    "Le fichier *essence.csv* contient des informations sur le prix de détail moyen par mois de l'essence pour Québec et Montréal de 1999 à 2021. Des renseignements additionnels sur les données sont disponibles à l'adresse suivante : https://www150.statcan.gc.ca/t1/tbl1/fr/cv.action?pid=1810000101\n",
    "\n",
    "Le fichier *test.csv* contient les zones de chasse pour lesquels vous devez prédire le nombre de cerfs mâles adultes récoltés pour l'année 2021, peu importe l'engin de chasse utilisé. La qualité de vos prédictions sera ensuite évaluée lorsque vous les téléverserez sur Kaggle. Vos prédictions seront comparées à celles des autres équipes de la classe.\n",
    "\n",
    "### Consignes\n",
    "\n",
    "- Vous devez constituer une équipe de 3 à 5 personnes.\n",
    "- Au moins une solution doit être proposée sur Kaggle.\n",
    "- Utilisez votre identifiant d'équipe pour téléverser vos prédictions sur Kaggle.\n",
    "- Un seul calepin *.ipynb* par équipe doit être remis. Ce fichier documente et illustre la procédure qui vous a permis de produire vos meilleures prédictions. Ce fichier constitue le rapport final du projet.\n",
    "- Le langage Julia doit être utilisé.\n",
    "- Votre démarche doit être rigoureusement justifiée (consultez la grille de correction pour vous orienter).\n",
    "\n",
    "### Quelques conseils\n",
    "\n",
    "Votre calepin doit permettre à une personne à l'extérieur de l'équipe de comprendre votre démarche et de reproduire vos résultats. Par exemple, une bonne façon de faire consiste à expliquer dans une cellule de texte la tâche qui est accomplie dans la cellule de code suivante. \n",
    "\n",
    "Je vous encourage fortement à faire une analyse exploratoire des données pour développer une meilleure expertise du problème. C'est une étape qui est toujours négligée mais qui est essentielle. C'est avec l'analyse exploratoire que vous viendra des idées d'amélioration, comme par exemple créer de nouvelles variables explicatives.\n",
    "\n",
    "Vous pouvez utiliser directement tout ce qui se trouve dans les notes de cours sans explication et toutes les librairies utilisées dans le cours (incluant mes fonctions).\n",
    "\n",
    "Ce calepin contient un modèle très simple de prédiction : on n'utilise qu'une seule variable explicative. Ce sera votre travail d'améliorer ces prédictions avec la méthode et les variables de votre choix.\n",
    "\n",
    "S'il y a des données manquantes, ce sera à vous de traiter ce problème. La plupart du temps, une méthode simple d'imputation (de remplacement) des données manquantes est suffisante.\n",
    "\n",
    "Prenez la peine de documenter succinctement les essais infructueux. Ce n'est pas nécessaire de les expliquer en détails, mais c'est important de les mentionner dans la discussion avec une raison possible de leur échec. De cette façon, une personne qui reprendra votre travail dans le futur ne perdra pas de temps à réessayer une méthode infructueuse déjà testée.\n",
    "\n",
    "Vous pouvez aussi indiquer dans votre rapport les raisons qui vous font croire pourquoi une méthode a moins bien performée de ce qui était attendu. Vous pouvez également mentionner ce que vous auriez pu tenter si vous aviez eu plus de temps ou plus de données. L'idée est de guider l'analyste qui prendrait la relève de votre travail.\n",
    "\n",
    "Vous êtes limités à deux soumissions par jour UTC par équipe sur Kaggle. Je vous suggère donc de bien tester vos modèles localement et de ne téléverser que vos meilleurs prédictions de la journée."
   ]
  },
  {
   "cell_type": "code",
   "execution_count": null,
   "id": "e73df58a",
   "metadata": {},
   "outputs": [],
   "source": [
    "import Pkg; Pkg.add(\"MultivariateStats\")"
   ]
  },
  {
   "cell_type": "code",
   "execution_count": null,
   "id": "1038ac25",
   "metadata": {},
   "outputs": [],
   "source": [
    "using CSV, DataFrames, Statistics, Dates, Gadfly, GLM, DataStructures, Random, StatsBase, LinearAlgebra"
   ]
  },
  {
   "cell_type": "markdown",
   "id": "99e1462f",
   "metadata": {},
   "source": [
    "---\n",
    "## 1. Chargement de données"
   ]
  },
  {
   "cell_type": "markdown",
   "id": "ccc9d08f",
   "metadata": {},
   "source": [
    "#### Récolte annuelle de cerfs par zones de chasse selon les différents engins"
   ]
  },
  {
   "cell_type": "code",
   "execution_count": null,
   "id": "b3b7a5f3",
   "metadata": {},
   "outputs": [],
   "source": [
    "recolte = CSV.read(\"data/recolte.csv\", DataFrame)\n",
    "first(recolte, 5)"
   ]
  },
  {
   "cell_type": "markdown",
   "id": "f9f40777",
   "metadata": {},
   "source": [
    "#### Nombre de permis de chasse alloués annuellement aux résidents et non-résidents"
   ]
  },
  {
   "cell_type": "code",
   "execution_count": null,
   "id": "08cf1bcf",
   "metadata": {},
   "outputs": [],
   "source": [
    "permis = CSV.read(\"data/permis.csv\", DataFrame)\n",
    "first(permis, 5)"
   ]
  },
  {
   "cell_type": "markdown",
   "id": "33e47467",
   "metadata": {},
   "source": [
    "#### Moyenne mensuelle du prix de détail de l'essence en cents pour Québec et Montréal"
   ]
  },
  {
   "cell_type": "code",
   "execution_count": null,
   "id": "6758cd47",
   "metadata": {},
   "outputs": [],
   "source": [
    "essence = CSV.read(\"data/essence.csv\", DataFrame)\n",
    "first(essence, 5)"
   ]
  },
  {
   "cell_type": "markdown",
   "id": "b7030daa",
   "metadata": {},
   "source": [
    "#### Données météorologiques quotidiennes à Montréal-Trudeau entre 1999 et 2021"
   ]
  },
  {
   "cell_type": "code",
   "execution_count": null,
   "id": "060b9861",
   "metadata": {},
   "outputs": [],
   "source": [
    "meteo = CSV.read(\"data/meteo.csv\", DataFrame)\n",
    "colnames = [\"Date\",\"MeanTemp\",\"TotalRain\", \"TotalSnow\", \"SnowOnGrnd\"]\n",
    "rename!(meteo, Symbol.(colnames))\n",
    "first(meteo, 5)"
   ]
  },
  {
   "cell_type": "markdown",
   "id": "aa7291d3",
   "metadata": {},
   "source": [
    "---\n",
    "## 2. Analyse exploratoire\n",
    "\n",
    "Cette section consitue une analyse exploratoire superficielle permettant de se familiariser avec les données. C'est une analyse exploratoire sommaire. Je vous encourage fortement à poursuivre cette analyse."
   ]
  },
  {
   "cell_type": "markdown",
   "id": "141cdcbe",
   "metadata": {},
   "source": [
    "#### 2.1 Quantité de cerfs récoltés annuellement dans toutes les zones pour tous les engins de chasse"
   ]
  },
  {
   "cell_type": "code",
   "execution_count": null,
   "id": "9f8d8ec0",
   "metadata": {},
   "outputs": [],
   "source": [
    "set_default_plot_size(16cm, 10cm)\n",
    "df = combine(groupby(recolte, :Année), :Cerfs => sum => :Cerfs)\n",
    "plot(df, x=:Année, y=:Cerfs, Geom.line, Geom.point)"
   ]
  },
  {
   "cell_type": "code",
   "execution_count": null,
   "id": "8d9ff6e1",
   "metadata": {},
   "outputs": [],
   "source": [
    "set_default_plot_size(16cm, 10cm)\n",
    "plot(permis, x=:Année, y=:Total, Geom.line, Geom.point,\n",
    "    Guide.ylabel(\"permis vendus\"))"
   ]
  },
  {
   "cell_type": "code",
   "execution_count": null,
   "id": "d20b1054",
   "metadata": {},
   "outputs": [],
   "source": [
    "df2 = innerjoin(df, permis, on = :Année)\n",
    "\n",
    "plot(df2, x=:Total, y=:Cerfs, Geom.point,\n",
    "    Guide.xlabel(\"permis vendus\"),\n",
    "    Guide.ylabel(\"cerfs récoltés\"))"
   ]
  },
  {
   "cell_type": "markdown",
   "id": "116cbb7d",
   "metadata": {},
   "source": [
    "#### 2.2 Quantité de cerfs récoltés annuellement dans les différentes zones de chasse\n",
    "\n",
    "On doit d'abord additionner le nombre de cerfs récoltés selon les différents engins de chasse."
   ]
  },
  {
   "cell_type": "code",
   "execution_count": null,
   "id": "591d14ad",
   "metadata": {},
   "outputs": [],
   "source": [
    "zones = groupby(recolte, :Zone)  # On groupe les données par zone\n",
    "\n",
    "new_df = DataFrame(Année = Int64[], Zone = Int64[], Cerfs= Int64[])  # On initialise un DataFrame vide\n",
    "\n",
    "for zone in zones  # Pour chaque zone de chasse,\n",
    "    \n",
    "    # pour chaque année,\n",
    "    # on additionne le nombre de cerfs récoltés selon les différents engins de chasse\n",
    "    df = combine(groupby(zone, :Année), :Cerfs => sum => :Cerfs)  \n",
    "    \n",
    "    df2 = DataFrame(Année = df.Année, \n",
    "                    Zone = fill(unique(zone.Zone)[1], size(df, 1)),\n",
    "                    Cerfs = df.Cerfs) \n",
    "    \n",
    "    append!(new_df, df2)  # On ajoute l'information au DataFrame préinitialisé \n",
    "end\n",
    "\n",
    "sort!(new_df, :Année)\n",
    "first(new_df, 5)  "
   ]
  },
  {
   "cell_type": "code",
   "execution_count": null,
   "id": "3a78776c",
   "metadata": {},
   "outputs": [],
   "source": [
    "groupby(new_df, :Zone)[1].Zone[1]"
   ]
  },
  {
   "cell_type": "code",
   "execution_count": null,
   "id": "9884699d",
   "metadata": {},
   "outputs": [],
   "source": [
    "zones = unique(new_df[!, :Zone])\n",
    "pp = Plot[]\n",
    "set_default_plot_size(16cm, 10cm)\n",
    "for i = 1:length(zones)\n",
    "    p = plot(groupby(new_df, :Zone)[i], x=:Année, y=:Cerfs, Geom.point, Geom.line, Guide.title(\"Zone $(groupby(new_df, :Zone)[i].Zone[1])\"))\n",
    "    push!(pp, p)\n",
    "end"
   ]
  },
  {
   "cell_type": "code",
   "execution_count": null,
   "id": "609735ac",
   "metadata": {},
   "outputs": [],
   "source": [
    "p = reshape(pp, (19, 1))\n",
    "\n",
    "set_default_plot_size(25cm, 100cm)\n",
    "gridstack(p)"
   ]
  },
  {
   "cell_type": "markdown",
   "id": "35764c9c",
   "metadata": {},
   "source": [
    "#### 2.3 Quantité de données pour chaque zone\n",
    "\n",
    "Il est pertinent de regarder s'il y a une différence importante entre la quantité de données fournie pour chaque zone"
   ]
  },
  {
   "cell_type": "code",
   "execution_count": null,
   "id": "455bc810",
   "metadata": {},
   "outputs": [],
   "source": [
    "counter(recolte[!, :Zone])"
   ]
  },
  {
   "cell_type": "markdown",
   "id": "ab1085b0",
   "metadata": {},
   "source": [
    "#### 2.4 Prix de l'essence moyen par année\n",
    "\n",
    "Cette donnée est fort probablement corélée avec l'année, du à l'inflation, mais cela reste une donnée pertinente"
   ]
  },
  {
   "cell_type": "code",
   "execution_count": null,
   "id": "64169d5c",
   "metadata": {},
   "outputs": [],
   "source": [
    "essence[!, :Année] = Dates.year.(essence[!, :Mois])\n",
    "# on enlève les années sans données de récolte\n",
    "essence = essence[essence[!, :Année] .>= 1999, :]\n",
    "essence = essence[essence[!, :Année] .<= 2020, :]\n",
    "\n",
    "moy_essence = combine(groupby(essence, :Année), :Québec => mean => :Québec)\n",
    "moy_mtl = combine(groupby(essence, :Année), :Montréal => mean => :Montréal)  # On groupe les données par zone\n",
    "moy_essence[!, :Montréal] = moy_mtl.Montréal\n",
    "\n",
    "set_default_plot_size(16cm, 10cm)\n",
    "tot_annee = combine(groupby(recolte, :Année), :Cerfs => sum => :Cerfs)\n",
    "moy_essence[!, :Cerfs] = tot_annee.Cerfs\n",
    "display(moy_essence)\n",
    "plot(layer(moy_essence, x=:Québec, y=:Cerfs, Geom.line, Geom.point),\n",
    "     layer(moy_essence, x=:Montréal, y=:Cerfs, Geom.line, Geom.point))"
   ]
  },
  {
   "cell_type": "code",
   "execution_count": null,
   "id": "acab1d70",
   "metadata": {},
   "outputs": [],
   "source": [
    "\n",
    "set_default_plot_size(16cm, 10cm)\n",
    "plot(moy_essence, x=:Année, y=:Québec, Geom.line, Geom.point, Guide.xticks(ticks=1999:1:2020),\n",
    "    Guide.xlabel(\"Année\"), Guide.ylabel(\"Prix de l'essence (cents/litre)\"))"
   ]
  },
  {
   "cell_type": "code",
   "execution_count": null,
   "id": "35850f3b",
   "metadata": {},
   "outputs": [],
   "source": [
    "plot(moy_essence, x=:Année, y=:Cerfs, Geom.line, Geom.point, Guide.xticks(ticks=1999:1:2020),\n",
    "    Guide.xlabel(\"Année\"), Guide.ylabel(\"Nombre de cerfs récoltés\"))"
   ]
  },
  {
   "cell_type": "markdown",
   "id": "f827855d",
   "metadata": {},
   "source": [
    "On voit clairement une relation entre le prix de l'essence et le nombre de cerfs récoltés, cependant ce n'est pas une relation linéaire. Le nombre de Cerfs semble être affecté par des changements soundains du prix."
   ]
  },
  {
   "cell_type": "code",
   "execution_count": null,
   "id": "82521c23",
   "metadata": {},
   "outputs": [],
   "source": [
    "# Replace gas price by difference between current and previous year\n",
    "moy_essence_diff = deepcopy(moy_essence)\n",
    "\n",
    "for i = 2:size(moy_essence, 1)\n",
    "    moy_essence_diff[i, :Québec] = (moy_essence[i, :Québec] - moy_essence[i-1, :Québec])\n",
    "    moy_essence_diff[i, :Montréal] = (moy_essence[i, :Montréal] - moy_essence[i-1, :Montréal])\n",
    "end\n",
    "\n",
    "# On enlève la première année, dont on ne peut pas calculer la différence \n",
    "moy_essence_diff = moy_essence_diff[2:end, :]\n",
    "display(moy_essence_diff)"
   ]
  },
  {
   "cell_type": "code",
   "execution_count": null,
   "id": "b3e1ce24",
   "metadata": {},
   "outputs": [],
   "source": [
    "set_default_plot_size(10cm, 10cm)\n",
    "plot(\n",
    "    layer(moy_essence_diff, x=:Année, y=:Québec, Geom.line, Geom.point, Theme(default_color=colorant\"green\")),\n",
    "    layer(moy_essence, x=:Année, y=:Québec, Geom.line, Geom.point, Theme(default_color=colorant\"red\")),\n",
    ")"
   ]
  },
  {
   "cell_type": "markdown",
   "id": "90252e01",
   "metadata": {},
   "source": [
    "##### 2.4.1 Récoltes en fonction des changements du prix de l'essence, par zone"
   ]
  },
  {
   "cell_type": "code",
   "execution_count": null,
   "id": "9488733b",
   "metadata": {},
   "outputs": [],
   "source": [
    "set_default_plot_size(16cm, 10cm)\n",
    "zones = groupby(recolte, :Zone)\n",
    "\n",
    "df_essence_zone = DataFrame(Zone = Int64[], Montréal = Float64[], Cerfs= Int64[])  # On initialise un DataFrame vide\n",
    "\n",
    "for zone in zones\n",
    "    \n",
    "    # pour chaque année,\n",
    "    # on additionne le nombre de cerfs récoltés selon les différents engins de chasse\n",
    "    \n",
    "    df = combine(groupby(zone, :Année), :Cerfs => sum => :Cerfs)  \n",
    "    # remove rows from moy_essence where Année is not in df.Année\n",
    "    moy_essence_diff_zone = moy_essence_diff[findall(x -> x in df.Année, moy_essence_diff.Année), :]\n",
    "    df = df[findall(x -> x in moy_essence_diff.Année, df.Année), :]\n",
    "    df[!, :Montréal] = moy_essence_diff_zone.Montréal\n",
    "    df2 = DataFrame(Montréal = df.Montréal,\n",
    "                    Zone = fill(unique(zone.Zone)[1], size(df, 1)),\n",
    "                    Cerfs = df.Cerfs) \n",
    "    \n",
    "    append!(df_essence_zone, df2)  # On ajoute l'information au DataFrame préinitialisé \n",
    "end\n",
    "display(df_essence_zone)"
   ]
  },
  {
   "cell_type": "code",
   "execution_count": null,
   "id": "38edad4c",
   "metadata": {},
   "outputs": [],
   "source": [
    "zones = unique(df_essence_zone[!, :Zone])\n",
    "pp = Plot[]\n",
    "set_default_plot_size(16cm, 10cm)\n",
    "for i = 1:length(zones)\n",
    "    p = plot(groupby(df_essence_zone, :Zone)[i], x=:Montréal, y=:Cerfs, Geom.point, Geom.line, Guide.title(\"Zone $(groupby(new_df, :Zone)[i].Zone[1])\"))\n",
    "    push!(pp, p)\n",
    "end"
   ]
  },
  {
   "cell_type": "code",
   "execution_count": null,
   "id": "7e1421e7",
   "metadata": {},
   "outputs": [],
   "source": [
    "p = reshape(pp, (19, 1))\n",
    "\n",
    "set_default_plot_size(20cm, 200cm)\n",
    "gridstack(p)"
   ]
  },
  {
   "cell_type": "markdown",
   "id": "d2329814",
   "metadata": {},
   "source": [
    "On voit parfois une relation linéaire pour certaines zones, il reste à voir si cette relation est significative."
   ]
  },
  {
   "cell_type": "markdown",
   "id": "2c423a49",
   "metadata": {},
   "source": [
    "##### 2.4.2 Relation entre changement du prix d'essence et changement du nombre de cerfs\n",
    "\n",
    "La relation visible en observant les prixs d'essence et le nombre de cerfs pourrait être plus visible en considérant aussi le changement du nombre de cerfs d'une année à l'autre."
   ]
  },
  {
   "cell_type": "code",
   "execution_count": null,
   "id": "70bf9dc6",
   "metadata": {},
   "outputs": [],
   "source": [
    "set_default_plot_size(16cm, 10cm)\n",
    "zones = groupby(recolte, :Zone)\n",
    "\n",
    "df_essence_zone = DataFrame(Zone = Int64[], Montréal = Float64[], Cerfs= Int64[])  # On initialise un DataFrame vide\n",
    "\n",
    "for zone in zones\n",
    "    \n",
    "    # pour chaque année,\n",
    "    # on additionne le nombre de cerfs récoltés selon les différents engins de chasse\n",
    "    \n",
    "    df = combine(groupby(zone, :Année), :Cerfs => sum => :Cerfs) \n",
    "    # replace Cerfs by different in Cerfs from previous year\n",
    "    for i = 2:size(df, 1)-1\n",
    "        df[i, :Cerfs] = (df[i, :Cerfs] - df[i-1, :Cerfs])\n",
    "    end \n",
    "    # remove rows from moy_essence where Année is not in df.Année\n",
    "    moy_essence_diff_zone = moy_essence_diff[findall(x -> x in df.Année, moy_essence_diff.Année), :]\n",
    "    df = df[findall(x -> x in moy_essence_diff.Année, df.Année), :]\n",
    "    df[!, :Montréal] = abs.(moy_essence_diff_zone.Montréal)\n",
    "    df2 = DataFrame(Montréal = df.Montréal,\n",
    "                    Zone = fill(unique(zone.Zone)[1], size(df, 1)),\n",
    "                    Cerfs = df.Cerfs) \n",
    "    \n",
    "    append!(df_essence_zone, df2)  # On ajoute l'information au DataFrame préinitialisé \n",
    "end\n",
    "display(df_essence_zone)"
   ]
  },
  {
   "cell_type": "code",
   "execution_count": null,
   "id": "4bba5626",
   "metadata": {},
   "outputs": [],
   "source": [
    "zones = unique(df_essence_zone[!, :Zone])\n",
    "pp = Plot[]\n",
    "set_default_plot_size(16cm, 10cm)\n",
    "for i = 1:length(zones)\n",
    "    p = plot(groupby(df_essence_zone, :Zone)[i], x=:Montréal, y=:Cerfs, Geom.point, Geom.line, Guide.title(\"Zone $(groupby(new_df, :Zone)[i].Zone[1])\"))\n",
    "    push!(pp, p)\n",
    "end"
   ]
  },
  {
   "cell_type": "code",
   "execution_count": null,
   "id": "4174a185",
   "metadata": {},
   "outputs": [],
   "source": [
    "p = reshape(pp, (19, 1))\n",
    "\n",
    "set_default_plot_size(25cm, 200cm)\n",
    "gridstack(p)"
   ]
  },
  {
   "cell_type": "markdown",
   "id": "d3cddef8",
   "metadata": {},
   "source": [
    "#### 2.5 Prix de l'essence aux alentours des périodes de chasse\n",
    "Selon https://www.quebec.ca/tourisme-et-loisirs/activites-sportives-et-de-plein-air/chasse-sportive/periodes-limites/cerf-virginie#c128335, les périodes de chasse en 2022 et 2023 semblent être limité de septembre à décembre, les prix de l'essence dans ces périodes pourraient être plus fortement relié au nombre de cerfs. Au lieu de calculer les changements du prix d'essence, il pourrait être plus intéressant d'essayer d'enlever l'effet de l'inflation annuelle, en faisant  un regression linéaire des prix par mois, et par la suite soustraire les valeurs de cette régression aux prix d'essence."
   ]
  },
  {
   "cell_type": "code",
   "execution_count": null,
   "id": "8ef1dd5c",
   "metadata": {},
   "outputs": [],
   "source": [
    "function GetRowsInPeriod(df)\n",
    "    df = df[findall(x -> x ∉ [4,5,6,7,8,9], Dates.month.(df.Date)), :]\n",
    "    # # not allowed?\n",
    "    # # remove rows in october not in first 20 days\n",
    "    # df_october = df[findall(x -> x == 10, Dates.month.(df.Date)), :]\n",
    "    # df_october = df_october[findall(x -> x <= 20, Dates.day.(df_october.Date)), :]\n",
    "\n",
    "    # # remove rows in november not between day 5 and 21\n",
    "    # df_november = df[findall(x -> x == 11, Dates.month.(df.Date)), :]\n",
    "    # df_november = df_november[findall(x -> x <= 21, Dates.day.(df_november.Date)), :]\n",
    "    # df_november = df_november[findall(x -> x >= 5, Dates.day.(df_november.Date)), :]\n",
    "\n",
    "    # return vcat(df_october, df_november)\n",
    "    return df\n",
    "end"
   ]
  },
  {
   "cell_type": "markdown",
   "id": "c28c9392",
   "metadata": {},
   "source": [
    "##### 2.5.1 Prix de l'essence ajusté pour l'inflation\n",
    "En effectuant une régression linéaire sur les prix d'essence par mois, on peut ajuster les prix pour l'inflation. On peut ensuite soustraire les valeurs de cette régression aux prix d'essence pour enlever l'effet de l'inflation."
   ]
  },
  {
   "cell_type": "code",
   "execution_count": null,
   "id": "a6808674",
   "metadata": {},
   "outputs": [],
   "source": [
    "# convert date to number\n",
    "function date_to_number(date)\n",
    "    return Dates.year(date) + Dates.month(date)/12 + Dates.day(date)/365\n",
    "end\n",
    "\n",
    "# remove rows no in october to december\n",
    "essence_chasse = deepcopy(essence)\n",
    "rename!(essence_chasse, Symbol(\"Mois\") => :Date)\n",
    "essence_chasse = GetRowsInPeriod(essence_chasse)\n",
    "\n",
    "essence_annuelle = deepcopy(essence)\n",
    "essence_annuelle[!, :Date] = date_to_number.(deepcopy(essence)[!, :Mois])\n",
    "essence_model = lm(@formula(Montréal ~ Date), essence_annuelle)"
   ]
  },
  {
   "cell_type": "code",
   "execution_count": null,
   "id": "ac921e3e",
   "metadata": {},
   "outputs": [],
   "source": [
    "# substract value from regression from prices in Montreal \n",
    "temp_df = DataFrame(Date = date_to_number.(essence_chasse[!, :Date]))\n",
    "essence_chasse[!, :Montréal_adjusted] = essence_chasse[!, :Montréal] - predict(essence_model, temp_df)\n",
    "display(essence_chasse)\n",
    "\n"
   ]
  },
  {
   "cell_type": "code",
   "execution_count": null,
   "id": "d1b65166",
   "metadata": {},
   "outputs": [],
   "source": [
    "B_0 = coef(essence_model)[1]\n",
    "B_1 = coef(essence_model)[2]\n",
    "set_default_plot_size(25cm, 20cm)\n",
    "plot(\n",
    "    layer(essence_annuelle, x=:Date, y=:Montréal, Geom.line, Geom.point, Theme(default_color=colorant\"green\"),\n",
    "          intercept=[B_0], slope=[B_1], Geom.abline(style=:dash, color=\"red\"))\n",
    "    )"
   ]
  },
  {
   "cell_type": "code",
   "execution_count": null,
   "id": "94e944af",
   "metadata": {},
   "outputs": [],
   "source": [
    "# on enlève les années sans données de récolte\n",
    "essence_chasse = essence_chasse[essence_chasse[!, :Année] .>= 1999, :]\n",
    "essence_chasse = essence_chasse[essence_chasse[!, :Année] .<= 2020, :]\n",
    "\n",
    "moy_essence_chasse = combine(groupby(essence_chasse, :Année), :Montréal_adjusted => mean => :Montréal_adjusted)\n",
    "\n",
    "set_default_plot_size(16cm, 10cm)\n",
    "tot_annee = combine(groupby(recolte, :Année), :Cerfs => sum => :Cerfs)\n",
    "tot_annee = tot_annee[findall(x -> x in moy_essence.Année, tot_annee.Année), :]\n",
    "moy_essence_chasse[!, :Cerfs] = tot_annee.Cerfs\n",
    "set_default_plot_size(25cm, 10cm)\n",
    "plot(layer(moy_essence_chasse, x=:Montréal_adjusted, y=:Cerfs, Geom.line, Geom.point))\n",
    "\n"
   ]
  },
  {
   "cell_type": "markdown",
   "id": "14d7c8ca",
   "metadata": {},
   "source": [
    "##### 2.5.2 Prix de l'essence ajusté avec le prix des mois précédents\n",
    "On pourrais penser qu'un changement soudain au prix de l'essence pendant la période de chasse pourrait avoir un effet sur le nombre de cerfs récoltés. On pourrait donc soustraire le prix moyen de l'essence pendant la période de chasse au prix de l'essence des mois précédents."
   ]
  },
  {
   "cell_type": "code",
   "execution_count": null,
   "id": "3a43e229",
   "metadata": {},
   "outputs": [],
   "source": [
    "\n",
    "nbr_mois = 1\n",
    "\n",
    "essence = CSV.read(\"data/essence.csv\", DataFrame)\n",
    "rename!(essence, Symbol(\"Mois\") => :Date)\n",
    "essence[!, :Année] = Dates.year.(essence[!, :Date])\n",
    "# on enlève les années sans données de récolte\n",
    "essence = essence[essence[!, :Année] .>= 1999, :]\n",
    "essence = essence[essence[!, :Année] .<= 2020, :]\n",
    "\n",
    "essence_chasse = GetRowsInPeriod(deepcopy(essence))\n",
    "essence_avant_chasse = deepcopy(essence[findall(x -> x in (9-nbr_mois+1):9, Dates.month.(essence.Date)), :])\n",
    "\n",
    "moy_essence = combine(groupby(essence_chasse, :Année), :Montréal => mean => :Montréal, :Québec => mean => :Québec)\n",
    "moy_essence_avant_chasse = combine(groupby(essence_avant_chasse, :Année), :Montréal => mean => :Montréal, :Québec => mean => :Québec)\n",
    "\n",
    "moy_essence[!, :Montréal] = moy_essence[!, :Montréal] - moy_essence_avant_chasse.Montréal\n",
    "moy_essence[!, :Québec] = moy_essence[!, :Québec] - moy_essence_avant_chasse[!, :Québec]\n",
    "\n",
    "set_default_plot_size(16cm, 10cm)\n",
    "tot_annee = combine(groupby(recolte, :Année), :Cerfs => sum => :Cerfs)\n",
    "moy_essence[!, :Cerfs] = tot_annee.Cerfs\n",
    "# moy_essence[!, :Date] = Dates.year.(moy_essence[!, :Date])\n",
    "display(moy_essence)\n"
   ]
  },
  {
   "cell_type": "code",
   "execution_count": null,
   "id": "a3a1d5b0",
   "metadata": {},
   "outputs": [],
   "source": [
    "zones = groupby(recolte, :Zone)\n",
    "\n",
    "df_essence_zone = DataFrame(Zone = Int64[], Essence = Float64[], Cerfs = Int64[])\n",
    "for zone in zones\n",
    "    df = combine(groupby(zone, :Année), :Cerfs => sum => :Cerfs) \n",
    "\n",
    "    moy_essence_temp = moy_essence[findall(x -> x in df.Année, moy_essence.Année), :]\n",
    "    \n",
    "    df2 = DataFrame(Zone = fill(unique(zone.Zone)[1], size(df, 1)),\n",
    "                    Essence = moy_essence_temp.Montréal,\n",
    "                    Cerfs = df.Cerfs) \n",
    "    append!(df_essence_zone, df2)  # On ajoute l'information au DataFrame préinitialisé \n",
    "end"
   ]
  },
  {
   "cell_type": "code",
   "execution_count": null,
   "id": "687cb0fd",
   "metadata": {},
   "outputs": [],
   "source": [
    "zones = unique(df_essence_zone[!, :Zone])\n",
    "pp = Plot[]\n",
    "set_default_plot_size(16cm, 10cm)\n",
    "for i = 1:length(zones)\n",
    "    p = plot(groupby(df_essence_zone, :Zone)[i], x=:Essence, y=:Cerfs, Geom.point, Geom.line, Guide.title(\"Zone $(groupby(new_df, :Zone)[i].Zone[1])\"))\n",
    "    push!(pp, p)\n",
    "end\n",
    "\n",
    "p = reshape(pp, (19, 1))\n",
    "\n",
    "set_default_plot_size(25cm, 200cm)\n",
    "gridstack(p)"
   ]
  },
  {
   "cell_type": "markdown",
   "id": "40acac13",
   "metadata": {},
   "source": [
    "On ne trouve toujours pas de relation linéaire entre le prix de l'essence et le nombre de cerfs récoltés."
   ]
  },
  {
   "cell_type": "markdown",
   "id": "28012633",
   "metadata": {},
   "source": [
    "#### 2.6 Relation entre température et nombre de cerfs récoltés"
   ]
  },
  {
   "cell_type": "markdown",
   "id": "f32e9457",
   "metadata": {},
   "source": [
    "##### 2.6.1 Température moyenne en période de chasse"
   ]
  },
  {
   "cell_type": "code",
   "execution_count": null,
   "id": "f1212166",
   "metadata": {},
   "outputs": [],
   "source": [
    "function getTempMoy()\n",
    "    meteo_moy = GetRowsInPeriod(deepcopy(meteo))\n",
    "    meteo_moy = meteo_moy[.!ismissing.(meteo_moy.MeanTemp), :]\n",
    "    meteo_moy[!, :Date] = Dates.year.(meteo_moy[!, :Date])\n",
    "    # on enlève les années sans données de récolte\n",
    "    meteo_moy = meteo_moy[meteo_moy[!, :Date] .>= 1999, :]\n",
    "    meteo_moy = meteo_moy[meteo_moy[!, :Date] .<= 2020, :]\n",
    "\n",
    "    meteo_moy = combine(groupby(meteo_moy, :Date), :MeanTemp => mean => :MeanTemp)\n",
    "\n",
    "    # min_temp = minimum(meteo_moy.MeanTemp)\n",
    "    # meteo_moy[!, :MeanTemp] = meteo_moy[!, :MeanTemp] .- (min_temp + 0.01)\n",
    "    return meteo_moy\n",
    "end"
   ]
  },
  {
   "cell_type": "code",
   "execution_count": null,
   "id": "8329d164",
   "metadata": {},
   "outputs": [],
   "source": [
    "meteo_moy = getTempMoy()\n",
    "zones = groupby(recolte, :Zone)\n",
    "\n",
    "df_temp_moy_zone = DataFrame(Zone = Int64[], Temp = Float64[], Cerfs = Int64[])  # On initialise un DataFrame vide\n",
    "\n",
    "for zone in zones\n",
    "    \n",
    "    # pour chaque année,\n",
    "    # on additionne le nombre de cerfs récoltés selon les différents engins de chasse\n",
    "    \n",
    "    df = combine(groupby(zone, :Année), :Cerfs => sum => :Cerfs) \n",
    "\n",
    "    # on a pas les données de température pour 2013, on enlève l'année\n",
    "    df = df[df[!, :Année] .!= 2013, :]\n",
    "    meteo_moy_temp = meteo_moy[findall(x -> x in df.Année, meteo_moy.Date), :]\n",
    "    df2 = DataFrame(Zone = fill(unique(zone.Zone)[1], size(df, 1)),\n",
    "                    Temp = meteo_moy_temp.MeanTemp,\n",
    "                    Cerfs = df.Cerfs) \n",
    "    \n",
    "    append!(df_temp_moy_zone, df2)  # On ajoute l'information au DataFrame préinitialisé \n",
    "end"
   ]
  },
  {
   "cell_type": "code",
   "execution_count": null,
   "id": "891b9b37",
   "metadata": {},
   "outputs": [],
   "source": [
    "zones = unique(df_temp_moy_zone[!, :Zone])\n",
    "pp = Plot[]\n",
    "set_default_plot_size(16cm, 10cm)\n",
    "for i = 1:length(zones)\n",
    "    p = plot(groupby(df_temp_moy_zone, :Zone)[i], x=:Temp, y=:Cerfs, Geom.point, Geom.line, Guide.title(\"Zone $(groupby(new_df, :Zone)[i].Zone[1])\"))\n",
    "    push!(pp, p)\n",
    "end\n",
    "\n",
    "p = reshape(pp, (19, 1))\n",
    "\n",
    "set_default_plot_size(25cm, 200cm)\n",
    "gridstack(p)"
   ]
  },
  {
   "cell_type": "markdown",
   "id": "a3cb9892",
   "metadata": {},
   "source": [
    "##### 2.6.2 Nombre de jours avec une température moyenne en dessous d'un certain seuil l'an dernier\n",
    "\n",
    "Un hiver plus froid pourrait avoir un effet sur le nombre de cerfs récoltés l'année suivante."
   ]
  },
  {
   "cell_type": "code",
   "execution_count": null,
   "id": "67f9ea78",
   "metadata": {},
   "outputs": [],
   "source": [
    "function count_cold_days(limite_temp, getDataTest = false, power = 1)\n",
    "    meteo_count = deepcopy(meteo)\n",
    "    meteo_count = meteo_count[.!ismissing.(meteo_count.MeanTemp), :]\n",
    "    meteo_count[!, :Date] = Dates.year.(meteo_count[!, :Date])\n",
    "\n",
    "\n",
    "    meteo_count[!, :JourFroid] .= false\n",
    "\n",
    "    meteo_count[meteo_count[!, :MeanTemp] .< limite_temp, :JourFroid] .= true\n",
    "    meteo_count = combine(groupby(meteo_count, :Date), :JourFroid => sum => :JourFroid)\n",
    "    \n",
    "    meteo_count[!, :JourFroid] .= Int64.(ceil.(meteo_count[!, :JourFroid]  .^ power))\n",
    "\n",
    "    df_temp_count_zone = DataFrame(Année = Int64[], Zone = Int64[], CountJoursFroid = Float64[], Cerfs = Int64[])  # On initialise un DataFrame vide\n",
    "\n",
    "    if getDataTest\n",
    "        meteo_count = meteo_count[end-1, :]\n",
    "        return DataFrame(CountJoursFroid = meteo_count.JourFroid) \n",
    "    else\n",
    "        meteo_count = meteo_count[meteo_count[!, :Date] .>= 1998, :]\n",
    "        meteo_count = meteo_count[meteo_count[!, :Date] .<= 2020, :]\n",
    "    end\n",
    "\n",
    "    zones = groupby(recolte, :Zone)\n",
    "\n",
    "\n",
    "    for zone in zones\n",
    "        \n",
    "        # pour chaque année,\n",
    "        # on additionne le nombre de cerfs récoltés selon les différents engins de chasse\n",
    "        \n",
    "        df = combine(groupby(zone, :Année), :Cerfs => sum => :Cerfs) \n",
    "\n",
    "        # on a pas les données de cerfs pour 1999 et 2014\n",
    "        df = df[df[!, :Année] .!= 1999, :]\n",
    "        df = df[df[!, :Année] .!= 2014, :]\n",
    "        meteo_count_new = meteo_count[findall(x -> (x+1) in df.Année, meteo_count.Date), :]\n",
    "        df = df[findall(x -> (x-1) in meteo_count_new.Date, df.Année), :]\n",
    "        df2 = DataFrame(Année = df.Année,\n",
    "                        Zone = fill(unique(zone.Zone)[1], size(df, 1)),\n",
    "                        CountJoursFroid = meteo_count_new.JourFroid,\n",
    "                        Cerfs = df.Cerfs) \n",
    "        \n",
    "        append!(df_temp_count_zone, df2)  # On ajoute l'information au DataFrame préinitialisé \n",
    "    end\n",
    "    return df_temp_count_zone\n",
    "end"
   ]
  },
  {
   "cell_type": "code",
   "execution_count": null,
   "id": "38ffe20e",
   "metadata": {},
   "outputs": [],
   "source": [
    "pp = Plot[]\n",
    "\n",
    "for i = 1:18\n",
    "    df = count_cold_days(5)\n",
    "    p = plot(groupby(df, :Zone)[i], x=:CountJoursFroid, y=:Cerfs, Geom.point, Geom.line, Guide.title(\"Zone $i - Limite température = 5\"))\n",
    "    push!(pp, p)\n",
    "end\n",
    "\n",
    "p = reshape(pp, (length(pp), 1))\n",
    "\n",
    "set_default_plot_size(20cm, 500cm)\n",
    "gridstack(p)"
   ]
  },
  {
   "cell_type": "markdown",
   "id": "d945eb3a",
   "metadata": {},
   "source": [
    "#### 2.7 Relation entre neige au sol et Cerfs récoltés\n",
    "De façon similaire avec la température, on pourrait essayer de compter le nombre de jours où il y avait beaucoup de neige au sol, ce qui pourrait avoir un effet sur le nombre de cerfs récoltés l'année suivante."
   ]
  },
  {
   "cell_type": "code",
   "execution_count": null,
   "id": "35e22f70",
   "metadata": {},
   "outputs": [],
   "source": [
    "function count_snow_grnd_days(limite_neige, getDataTest = false, power = 1)\n",
    "    meteo_count = deepcopy(meteo)\n",
    "    meteo_count[ismissing.(meteo_count.SnowOnGrnd), :SnowOnGrnd] .= 0\n",
    "    meteo_count[!, :Date] = Dates.year.(meteo_count[!, :Date])\n",
    "\n",
    "    meteo_count[!, :JourNeigeGrnd] .= false\n",
    "\n",
    "    meteo_count[meteo_count[!, :SnowOnGrnd] .> limite_neige, :JourNeigeGrnd] .= true\n",
    "    meteo_count = combine(groupby(meteo_count, :Date), :JourNeigeGrnd => sum => :JourNeigeGrnd)\n",
    "\n",
    "    meteo_count[!, :JourNeigeGrnd] .= Int64.(ceil.(meteo_count[!, :JourNeigeGrnd]  .^ power))\n",
    "\n",
    "    df_neige_grnd_count_zone = DataFrame(Année = Int64[], Zone = Int64[], CountJoursNeigeGrnd = Float64[], Cerfs = Int64[])  # On initialise un DataFrame vide\n",
    "\n",
    "    if getDataTest\n",
    "        meteo_count = meteo_count[end-1, :]\n",
    "        return DataFrame(CountJoursNeigeGrnd = meteo_count.JourNeigeGrnd) \n",
    "    else\n",
    "        meteo_count = meteo_count[meteo_count[!, :Date] .>= 1998, :]\n",
    "        meteo_count = meteo_count[meteo_count[!, :Date] .<= 2020, :]\n",
    "    end\n",
    "\n",
    "    zones = groupby(recolte, :Zone)\n",
    "\n",
    "    for zone in zones\n",
    "        \n",
    "        # pour chaque année,\n",
    "        # on additionne le nombre de cerfs récoltés selon les différents engins de chasse\n",
    "        \n",
    "        df = combine(groupby(zone, :Année), :Cerfs => sum => :Cerfs) \n",
    "\n",
    "        # on a pas les données de cerfs pour 1999 et 2014\n",
    "        df = df[df[!, :Année] .!= 1999, :]\n",
    "        df = df[df[!, :Année] .!= 2014, :]\n",
    "        meteo_count_new = meteo_count[findall(x -> (x+1) in df.Année, meteo_count.Date), :]\n",
    "        df = df[findall(x -> (x-1) in meteo_count_new.Date, df.Année), :]\n",
    "        df2 = DataFrame(Année = df.Année,\n",
    "                        Zone = fill(unique(zone.Zone)[1], size(df, 1)),\n",
    "                        CountJoursNeigeGrnd = meteo_count_new.JourNeigeGrnd,\n",
    "                        Cerfs = df.Cerfs) \n",
    "        \n",
    "        append!(df_neige_grnd_count_zone, df2)  # On ajoute l'information au DataFrame préinitialisé \n",
    "    end\n",
    "    return df_neige_grnd_count_zone\n",
    "end"
   ]
  },
  {
   "cell_type": "code",
   "execution_count": null,
   "id": "94d358a1",
   "metadata": {},
   "outputs": [],
   "source": [
    "pp = Plot[]\n",
    "limite_neige_grnd = 8\n",
    "for i = 1:18\n",
    "    df = count_snow_grnd_days(limite_neige_grnd)\n",
    "    p = plot(groupby(df, :Zone)[i], x=:CountJoursNeigeGrnd, y=:Cerfs, Geom.point, Geom.line, Guide.title(\"Zone $i - Limite température = 5\"))\n",
    "    push!(pp, p)\n",
    "end\n",
    "\n",
    "p = reshape(pp, (length(pp), 1))\n",
    "\n",
    "set_default_plot_size(20cm, 500cm)\n",
    "gridstack(p)"
   ]
  },
  {
   "cell_type": "markdown",
   "id": "1cfaf295",
   "metadata": {},
   "source": [
    "#### 2.8 Relation entre neige tombée et Cerfs récoltés\n",
    "De la même façon on pourrais essayer de compter le nombre de jours où il y a eu beaucoup de neige tombée, ce qui pourrait avoir un effet sur le nombre de cerfs récoltés l'année suivante."
   ]
  },
  {
   "cell_type": "code",
   "execution_count": null,
   "id": "c26bf612",
   "metadata": {},
   "outputs": [],
   "source": [
    "function count_snow_fall_days(limite_neige, getDataTest = false, power = 1)\n",
    "    meteo_count = deepcopy(meteo)\n",
    "    meteo_count[ismissing.(meteo_count.TotalSnow), :TotalSnow] .= 0\n",
    "    # meteo_count = meteo_count[.!ismissing.(meteo_count.TotalSnow), :]\n",
    "    meteo_count[!, :Date] = Dates.year.(meteo_count[!, :Date])\n",
    "\n",
    "    meteo_count[!, :JourNeigeFall] .= false\n",
    "\n",
    "    meteo_count[meteo_count[!, :TotalSnow] .> limite_neige, :JourNeigeFall] .= true\n",
    "    meteo_count = combine(groupby(meteo_count, :Date), :JourNeigeFall => sum => :JourNeigeFall)\n",
    "\n",
    "    meteo_count[!, :JourNeigeFall] .= Int64.(ceil.(meteo_count[!, :JourNeigeFall]  .^ power))\n",
    "\n",
    "    df_neige_fall_count_zone = DataFrame(Année = Int64[], Zone = Int64[], CountJoursNeigeFall = Float64[], Cerfs = Int64[])  # On initialise un DataFrame vide\n",
    "\n",
    "    if getDataTest\n",
    "        meteo_count = meteo_count[end-1, :]\n",
    "        return DataFrame(CountJoursNeigeFall = meteo_count.JourNeigeFall) \n",
    "    else\n",
    "        meteo_count = meteo_count[meteo_count[!, :Date] .>= 1998, :]\n",
    "        meteo_count = meteo_count[meteo_count[!, :Date] .<= 2020, :]\n",
    "    end\n",
    "\n",
    "    zones = groupby(recolte, :Zone)\n",
    "\n",
    "    for zone in zones\n",
    "        \n",
    "        # pour chaque année,\n",
    "        # on additionne le nombre de cerfs récoltés selon les différents engins de chasse\n",
    "        \n",
    "        df = combine(groupby(zone, :Année), :Cerfs => sum => :Cerfs) \n",
    "\n",
    "        # on a pas les données de cerfs pour 1999 et 2014\n",
    "        df = df[df[!, :Année] .!= 1999, :]\n",
    "        df = df[df[!, :Année] .!= 2014, :]\n",
    "        meteo_count_new = meteo_count[findall(x -> (x+1) in df.Année, meteo_count.Date), :]\n",
    "        df = df[findall(x -> (x-1) in meteo_count_new.Date, df.Année), :]\n",
    "        df2 = DataFrame(Année = df.Année,\n",
    "                        Zone = fill(unique(zone.Zone)[1], size(df, 1)),\n",
    "                        CountJoursNeigeFall = meteo_count_new.JourNeigeFall,\n",
    "                        Cerfs = df.Cerfs) \n",
    "        \n",
    "        append!(df_neige_fall_count_zone, df2)  # On ajoute l'information au DataFrame préinitialisé \n",
    "    end\n",
    "    return df_neige_fall_count_zone\n",
    "end"
   ]
  },
  {
   "cell_type": "markdown",
   "id": "e73aec92",
   "metadata": {},
   "source": [
    "On peut en premier chercher la limite de neige qui semble avoir la meilleure relation avec le nombre de cerfs récoltés en essayant différentes valeurs."
   ]
  },
  {
   "cell_type": "code",
   "execution_count": null,
   "id": "7f92d1bf",
   "metadata": {},
   "outputs": [],
   "source": [
    "## Assez lent car on génère 400 graphes\n",
    "#=\n",
    "pp = Plot[]\n",
    "zone_test = 6\n",
    "for i = 0:0.1:40\n",
    "    df = count_snow_fall_days(i)\n",
    "    p = plot(groupby(df, :Zone)[zone_test], x=:CountJoursNeigeFall, y=:Cerfs, Geom.point, Geom.line, Guide.title(\"Zone $zone_test - Limite température = $i\"))\n",
    "    push!(pp, p)\n",
    "end\n",
    "\n",
    "p = reshape(pp, (length(pp), 1))\n",
    "\n",
    "set_default_plot_size(20cm, 5000cm)\n",
    "gridstack(p)\n",
    "=#"
   ]
  },
  {
   "cell_type": "markdown",
   "id": "c34d0fe9",
   "metadata": {},
   "source": [
    "On voit qu'à une valeur limite d'environ 2cm, il y a une assez bonne relation, du moins pour la zone 6. On peut voir si il y a aussi une relation pour les autres zones."
   ]
  },
  {
   "cell_type": "code",
   "execution_count": null,
   "id": "70234f73",
   "metadata": {},
   "outputs": [],
   "source": [
    "\n",
    "pp = Plot[]\n",
    "limite_neige = 2\n",
    "\n",
    "for i = 1:18\n",
    "    df = count_snow_fall_days(limite_neige)\n",
    "    p = plot(groupby(df, :Zone)[i], x=:CountJoursNeigeFall, y=:Cerfs, Geom.point, Geom.line, Guide.title(\"Zone $i - Limite neige = $limite_neige\"))\n",
    "    push!(pp, p)\n",
    "end\n",
    "\n",
    "p = reshape(pp, (length(pp), 1))\n",
    "\n",
    "set_default_plot_size(20cm, 500cm)\n",
    "gridstack(p)"
   ]
  },
  {
   "cell_type": "markdown",
   "id": "7c817b8f",
   "metadata": {},
   "source": [
    "Il semble en effet avoir une relation entre le nombre de cerfs récoltés et le nombre de jours avec beaucoup de neige tombée l'année précédente. Comme on s'y attendait, des hivers difficile pour les cerfs ont un effet sur le nombre de cerfs récoltés l'année suivante."
   ]
  },
  {
   "cell_type": "markdown",
   "id": "321d1ab5",
   "metadata": {},
   "source": [
    "#### 2.9 Relation entre quantité de pluie tombée et Cerfs récoltés\n",
    "On fait la même chose pour la pluie"
   ]
  },
  {
   "cell_type": "code",
   "execution_count": null,
   "id": "cddaad1d",
   "metadata": {},
   "outputs": [],
   "source": [
    "function count_rainy_days(limite_pluie, getDataTest = false)\n",
    "    meteo_count = deepcopy(meteo)\n",
    "    meteo_count[ismissing.(meteo_count.TotalRain), :TotalRain] .= 0\n",
    "    # meteo_count = meteo_count[.!ismissing.(meteo_count.TotalSnow), :]\n",
    "    meteo_count[!, :Date] = Dates.year.(meteo_count[!, :Date])\n",
    "\n",
    "    meteo_count[!, :JourPluie] .= false\n",
    "\n",
    "    meteo_count[meteo_count[!, :TotalRain] .> limite_pluie, :JourPluie] .= true\n",
    "    meteo_count = combine(groupby(meteo_count, :Date), :JourPluie => sum => :JourPluie)\n",
    "\n",
    "    df_pluie_zone = DataFrame(Année = Int64[], Zone = Int64[], CountJourPluie = Float64[], Cerfs = Int64[])  # On initialise un DataFrame vide\n",
    "\n",
    "    if getDataTest\n",
    "        meteo_count = meteo_count[end-1, :]\n",
    "        display(meteo_count)\n",
    "        return DataFrame(CountJoursNeigeFall = meteo_count.JourPluie) \n",
    "    else\n",
    "        meteo_count = meteo_count[meteo_count[!, :Date] .>= 1998, :]\n",
    "        meteo_count = meteo_count[meteo_count[!, :Date] .<= 2020, :]\n",
    "    end\n",
    "\n",
    "    zones = groupby(recolte, :Zone)\n",
    "\n",
    "    for zone in zones\n",
    "        \n",
    "        # pour chaque année,\n",
    "        # on additionne le nombre de cerfs récoltés selon les différents engins de chasse\n",
    "        \n",
    "        df = combine(groupby(zone, :Année), :Cerfs => sum => :Cerfs) \n",
    "\n",
    "        # on a pas les données de cerfs pour 1999 et 2014\n",
    "        df = df[df[!, :Année] .!= 1999, :]\n",
    "        df = df[df[!, :Année] .!= 2014, :]\n",
    "        meteo_count_new = meteo_count[findall(x -> (x+1) in df.Année, meteo_count.Date), :]\n",
    "        df = df[findall(x -> (x-1) in meteo_count_new.Date, df.Année), :]\n",
    "        df2 = DataFrame(Année = df.Année,\n",
    "                        Zone = fill(unique(zone.Zone)[1], size(df, 1)),\n",
    "                        CountJourPluie = meteo_count_new.JourPluie,\n",
    "                        Cerfs = df.Cerfs) \n",
    "        \n",
    "        append!(df_pluie_zone, df2)  # On ajoute l'information au DataFrame préinitialisé \n",
    "    end\n",
    "    return df_pluie_zone\n",
    "end"
   ]
  },
  {
   "cell_type": "code",
   "execution_count": null,
   "id": "8dfb1fbd",
   "metadata": {},
   "outputs": [],
   "source": [
    "## Assez lent car on génère 400 graphes\n",
    "#=\n",
    "pp = Plot[]\n",
    "zone_test = 6\n",
    "for i = 0:0.1:40\n",
    "    df = count_rainy_days(i)\n",
    "    p = plot(groupby(df, :Zone)[zone_test], x=:CountJourPluie, y=:Cerfs, Geom.point, Geom.line, Guide.title(\"Zone $zone_test - Limite pluie = $i\"))\n",
    "    push!(pp, p)\n",
    "end\n",
    "\n",
    "p = reshape(pp, (length(pp), 1))\n",
    "\n",
    "set_default_plot_size(20cm, 5000cm)\n",
    "gridstack(p)\n",
    "=#"
   ]
  },
  {
   "cell_type": "markdown",
   "id": "14d2f590",
   "metadata": {},
   "source": [
    "De la même façon on trouve une relation linéaire avec une limite d'environ 13.5 cm de pluie."
   ]
  },
  {
   "cell_type": "code",
   "execution_count": null,
   "id": "6bba8749",
   "metadata": {},
   "outputs": [],
   "source": [
    "pp = Plot[]\n",
    "zone_test = 6\n",
    "limite_pluie = 13.5\n",
    "for i = 1:18\n",
    "    df = count_rainy_days(limite_pluie)\n",
    "    p = plot(groupby(df, :Zone)[i], x=:CountJourPluie, y=:Cerfs, Geom.point, Geom.line, Guide.title(\"Zone $i - Limite pluie = $limite_pluie\"))\n",
    "    push!(pp, p)\n",
    "end\n",
    "\n",
    "p = reshape(pp, (length(pp), 1))\n",
    "\n",
    "set_default_plot_size(20cm, 500cm)\n",
    "gridstack(p)"
   ]
  },
  {
   "cell_type": "markdown",
   "id": "83859f37",
   "metadata": {},
   "source": [
    "La relation ne semble pas être vraie pour les autres zones."
   ]
  },
  {
   "cell_type": "markdown",
   "id": "5f99f1ec",
   "metadata": {},
   "source": [
    " #### 2.10 Relation entre permis "
   ]
  },
  {
   "cell_type": "markdown",
   "id": "b15c78aa",
   "metadata": {},
   "source": [
    "---\n",
    "## 3. Ajustement d'un modèle de régression linéaire simple\n",
    "\n",
    "Pour cet exemple simple, on n'utilise que l'année comme variable explicative afin d'ajuster un modèle de régression linéaire pour chaque zone de chasse."
   ]
  },
  {
   "cell_type": "markdown",
   "id": "2ab81a0e",
   "metadata": {},
   "source": [
    "#### 3.1. Ajustement des modèles "
   ]
  },
  {
   "cell_type": "code",
   "execution_count": null,
   "id": "dded0d62",
   "metadata": {},
   "outputs": [],
   "source": [
    "models = DataFrame(Zone = Int64[], β̂₀ = Float64[], β̂₁ = Float64[])  # On initialise le DataFrame vide\n",
    "\n",
    "zones = groupby(new_df, :Zone)  # On groupe les données par zone\n",
    "for zone in zones  # Pour chaque zone de chasse,\n",
    "\n",
    "    y = zone.Cerfs\n",
    "    n = length(y)\n",
    "    \n",
    "    x₁ = zone.Année  # On considère l'année seulement\n",
    "    X = hcat(ones(n), x₁)\n",
    "\n",
    "    β̂₀, β̂₁=  X'X\\X'y  # Estimation des coefficients de régression\n",
    "    \n",
    "    push!(models, [zone.Zone[1], β̂₀, β̂₁])  # On ajoute ça au DataFame\n",
    "end\n",
    "\n",
    "models"
   ]
  },
  {
   "cell_type": "markdown",
   "id": "7021a873",
   "metadata": {},
   "source": [
    "#### 3.2. Validation graphique\n",
    "\n",
    "Pour avoir un aperçu de la qualité de la regression, on ajoute la droite de régression."
   ]
  },
  {
   "cell_type": "code",
   "execution_count": null,
   "id": "50916fd7",
   "metadata": {},
   "outputs": [],
   "source": [
    "function f(x, i) \n",
    "    models[i, :β̂₀] + x * models[i, :β̂₁]\n",
    "end\n"
   ]
  },
  {
   "cell_type": "code",
   "execution_count": null,
   "id": "c0b7302a",
   "metadata": {},
   "outputs": [],
   "source": [
    "zones = unique(new_df[!, :Zone])\n",
    "\n",
    "pp = Plot[]\n",
    "\n",
    "set_default_plot_size(10cm, 6cm)\n",
    "for i = 1:length(zones)\n",
    "    p = plot(\n",
    "            layer(groupby(new_df, :Zone)[i], x=:Année, y=:Cerfs, Geom.point, Geom.line,\n",
    "            intercept=[models[i, :β̂₀]], slope=[models[i, :β̂₁]], Geom.abline(style=:dash, color=\"red\")),\n",
    "            layer(x -> f(x, i), 1999, 2021))\n",
    "    push!(pp, p)\n",
    "end"
   ]
  },
  {
   "cell_type": "code",
   "execution_count": null,
   "id": "fe7f4986",
   "metadata": {},
   "outputs": [],
   "source": [
    "# Pour afficher les 4 premières zones \n",
    "\n",
    "p = reshape(pp, (19,1))\n",
    "\n",
    "set_default_plot_size(25cm, 100cm)\n",
    "gridstack(p)"
   ]
  },
  {
   "cell_type": "markdown",
   "id": "a211c7f8",
   "metadata": {},
   "source": [
    "---\n",
    "## 4. Estimation du nombre de cerfs mâles adultes récoltés par zone de chasse en 2021 \n",
    "\n",
    "On utilise le modèle simple de la section précédente pour estimer le nombre de cerfs récoltés pour chacune des lignes de l'ensemble de test."
   ]
  },
  {
   "cell_type": "markdown",
   "id": "b91132f1",
   "metadata": {},
   "source": [
    "#### 4.1 Chargement des données de l'ensemble de test"
   ]
  },
  {
   "cell_type": "code",
   "execution_count": null,
   "id": "942eafd4",
   "metadata": {},
   "outputs": [],
   "source": [
    "test = CSV.read(\"data/test.csv\", DataFrame);\n",
    "display(test)"
   ]
  },
  {
   "cell_type": "markdown",
   "id": "c39198c9",
   "metadata": {},
   "source": [
    "#### 4.2 Estimation du nombre de cerfs récoltés pour chacune des ligne de l'ensemble de test."
   ]
  },
  {
   "cell_type": "code",
   "execution_count": null,
   "id": "fd11ac96",
   "metadata": {},
   "outputs": [],
   "source": [
    "models = models[in.(models.Zone, Ref(test.Zone)), :];  # On récupère seulement les modèles pour les zones à prévoir"
   ]
  },
  {
   "cell_type": "code",
   "execution_count": null,
   "id": "f92944b2",
   "metadata": {},
   "outputs": [],
   "source": [
    "ŷ = [Int64(ceil(f(2021, i))) for i in 1:size(test,1)];"
   ]
  },
  {
   "cell_type": "markdown",
   "id": "1759bf8f",
   "metadata": {},
   "source": [
    "#### 4.3 Préparation du fichier des préditions pour téléverser sur Kaggle\n",
    "\n",
    "Le fichier *benchmark_predictions.csv* généré peut être téléversé sur Kaggle. Il est composé d'une colonne de zones (Zone) et d'une colonne du nombre de cerfs récoltés (Cerfs)."
   ]
  },
  {
   "cell_type": "code",
   "execution_count": null,
   "id": "c68b8451",
   "metadata": {},
   "outputs": [],
   "source": [
    "prediction = DataFrame(Zone = test.Zone, Cerfs = ŷ)\n",
    "\n",
    "CSV.write(\"benchmark_predictions.csv\", prediction)"
   ]
  },
  {
   "cell_type": "markdown",
   "id": "0c152592",
   "metadata": {},
   "source": [
    "---\n",
    "## 5. Utilisation de variables explicatives identifiées dans la section 2"
   ]
  },
  {
   "cell_type": "markdown",
   "id": "cba65896",
   "metadata": {},
   "source": [
    "### 5.1 Modèle avec année, température moyenne pendant la période de chasse et nombre de jours froids l'an passé"
   ]
  },
  {
   "cell_type": "markdown",
   "id": "ef99ddb2",
   "metadata": {},
   "source": [
    "#### 5.1.1 Ajustement du modèle"
   ]
  },
  {
   "cell_type": "code",
   "execution_count": null,
   "id": "293e1cb2",
   "metadata": {},
   "outputs": [],
   "source": [
    "temp_limit = 5\n",
    "meteo_moy = getTempMoy()\n",
    "new_zones = DataFrame(Zone = Int64[], Année = Int64[], Cerfs = Int64[], CountJoursFroid = Int64[], MoyTemp = Float64[])\n",
    "meteo_count_zone = count_cold_days(temp_limit)\n",
    "zones = groupby(meteo_count_zone, :Zone)\n",
    "for (i, zone) in enumerate(zones)\n",
    "    zone = zone[zone[!, :Année] .!= 2013, :]\n",
    "    meteo_moy_temp = meteo_moy[findall(x -> x in zone.Année, meteo_moy.Date), :]\n",
    "    zone[!, :MoyTemp] .= meteo_moy_temp.MeanTemp\n",
    "    append!(new_zones, zone)\n",
    "end\n",
    "\n",
    "new_zones = groupby(new_zones, :Zone)"
   ]
  },
  {
   "cell_type": "code",
   "execution_count": null,
   "id": "cd5147b2",
   "metadata": {},
   "outputs": [],
   "source": [
    "models = Any[]\n",
    "\n",
    "for zone in new_zones\n",
    "    model = lm(@formula(Cerfs ~ Année + MoyTemp + CountJoursFroid), zone)\n",
    "    push!(models, model)\n",
    "end"
   ]
  },
  {
   "cell_type": "markdown",
   "id": "24aabecd",
   "metadata": {},
   "source": [
    "#### 5.1.2 Validation graphique"
   ]
  },
  {
   "cell_type": "code",
   "execution_count": null,
   "id": "609135cc",
   "metadata": {},
   "outputs": [],
   "source": [
    "for (i, zone) in enumerate(new_zones)\n",
    "    zone[!, :Prediction] .= 0\n",
    "    for j = 1:size(zone, 1)\n",
    "        data = DataFrame(Année = zone.Année[j], MoyTemp = zone.MoyTemp[j], CountJoursFroid = zone.CountJoursFroid[j])\n",
    "        ŷ = Int64.(ceil.(predict(models[i], data)[1]))\n",
    "        zone[j, :Prediction] = Int64(ceil(ŷ[1]))\n",
    "    end\n",
    "end\n"
   ]
  },
  {
   "cell_type": "code",
   "execution_count": null,
   "id": "c07471f3",
   "metadata": {},
   "outputs": [],
   "source": [
    "pp = Plot[]\n",
    "\n",
    "for i = 1:length(new_zones)\n",
    "    p = plot(\n",
    "            layer(new_zones[i], x=:Année, y=:Cerfs, Geom.point, Geom.line, Theme(default_color=colorant\"green\")),\n",
    "            layer(new_zones[i], x=:Année, y=:Prediction, Geom.point, Geom.line, Theme(default_color=colorant\"red\")))\n",
    "    push!(pp, p)\n",
    "end\n",
    "\n",
    "p = reshape(pp, (19,1))\n",
    "\n",
    "set_default_plot_size(25cm, 100cm)\n",
    "gridstack(p)"
   ]
  },
  {
   "cell_type": "code",
   "execution_count": null,
   "id": "e3f928db",
   "metadata": {},
   "outputs": [],
   "source": [
    "# Calculate average squared error for all predictions\n",
    "function mse(predictions, actual)\n",
    "    sum((predictions .- actual).^2) / length(predictions)\n",
    "end\n",
    "\n",
    "# Calculate average squared error for all predictions\n"
   ]
  },
  {
   "cell_type": "markdown",
   "id": "8aeb7835",
   "metadata": {},
   "source": [
    "#### 5.1.3 Estimation du nombre de cerfs récoltés en 2021"
   ]
  },
  {
   "cell_type": "code",
   "execution_count": null,
   "id": "926a2c66",
   "metadata": {},
   "outputs": [],
   "source": [
    "prediction = DataFrame(Zone = Int64[], Cerfs = Int64[])\n",
    "\n",
    "cold_days_2020 = count_cold_days(temp_limit, true)[1, :].CountJoursFroid\n",
    "\n",
    "meteo_moy = deepcopy(meteo)\n",
    "meteo_moy = GetRowsInPeriod(deepcopy(meteo))\n",
    "meteo_moy = meteo_moy[.!ismissing.(meteo_moy.MeanTemp), :]\n",
    "meteo_moy[!, :Date] = Dates.year.(meteo_moy[!, :Date])\n",
    "meteo_moy = meteo_moy[meteo_moy[!, :Date] .== 2021, :]\n",
    "\n",
    "moy_temp_2021 = combine(groupby(meteo_moy, :Date), :MeanTemp => mean => :MeanTemp)[1, :].MeanTemp\n",
    "\n",
    "for model in models\n",
    "    data = DataFrame(Année = 2021, MoyTemp = moy_temp_2021, CountJoursFroid = cold_days_2020)\n",
    "    pred = max(Int64(ceil(predict(model, data)[1])), 0)\n",
    "    push!(prediction, [test.Zone[1], pred])\n",
    "end\n",
    "prediction = prediction[prediction[!, :Zone] .!= 21, :]\n",
    "CSV.write(\"Charles_Année-moyTemp-Jours5C.csv\", prediction)"
   ]
  },
  {
   "cell_type": "markdown",
   "id": "cba65896",
   "metadata": {},
   "source": [
    "### 5.2 Modèle avec année, température moyenne pendant la période de chasse, nombre de jours froids l'an passé et cerfs récoltés l'année précédente"
   ]
  },
  {
   "cell_type": "markdown",
   "id": "ef99ddb2",
   "metadata": {},
   "source": [
    "#### 5.2.1 Ajustement du modèle"
   ]
  },
  {
   "cell_type": "code",
   "execution_count": null,
   "id": "293e1cb2",
   "metadata": {},
   "outputs": [],
   "source": [
    "temp_limit = 5\n",
    "meteo_moy = getTempMoy()\n",
    "new_zones = DataFrame(Zone = Int64[], Année = Int64[], Cerfs = Int64[], CountJoursFroid = Int64[], MoyTemp = Float64[], RecolteAnneePassee = Int64[])\n",
    "meteo_count_zone = count_cold_days(temp_limit)\n",
    "zones = groupby(meteo_count_zone, :Zone)\n",
    "\n",
    "zones_cerfs = groupby(recolte, :Zone)\n",
    "zones_cerfs = [zones_cerfs[i][zones_cerfs[i][!, :Année] .!= 2013, :] for i in 1:length(zones_cerfs)]\n",
    "\n",
    "for (i, zone) in enumerate(zones)\n",
    "    zone = zone[zone[!, :Année] .!= 2013, :]\n",
    "    meteo_moy_temp = meteo_moy[findall(x -> x in zone.Année, meteo_moy.Date), :]\n",
    "    zone[!, :MoyTemp] .= meteo_moy_temp.MeanTemp\n",
    "    \n",
    "    zone_cerfs = combine(groupby(zones_cerfs[i], :Année), :Cerfs => sum => :Cerfs)\n",
    "    zone_cerfs[!, :Année] = zone_cerfs[!, :Année] .+ 1\n",
    "    zone_cerfs = zone_cerfs[findall(x -> x in meteo_moy_temp.Date, zone_cerfs.Année), :]\n",
    "    zone = zone[findall(x -> x in zone_cerfs.Année, zone.Année), :]\n",
    "    zone[!, :RecolteAnneePassee] .= zone_cerfs.Cerfs\n",
    "    append!(new_zones, zone)\n",
    "end\n",
    "\n",
    "new_zones = groupby(new_zones, :Zone)"
   ]
  },
  {
   "cell_type": "code",
   "execution_count": null,
   "id": "cd5147b2",
   "metadata": {},
   "outputs": [],
   "source": [
    "models = Any[]\n",
    "\n",
    "for zone in new_zones\n",
    "    model = lm(@formula(Cerfs ~ Année + MoyTemp + CountJoursFroid + RecolteAnneePassee), zone)\n",
    "    push!(models, model)\n",
    "end"
   ]
  },
  {
   "cell_type": "markdown",
   "id": "24aabecd",
   "metadata": {},
   "source": [
    "#### 5.2.2 Validation graphique"
   ]
  },
  {
   "cell_type": "code",
   "execution_count": null,
   "id": "609135cc",
   "metadata": {},
   "outputs": [],
   "source": [
    "for (i, zone) in enumerate(new_zones)\n",
    "    zone[!, :Prediction] .= 0\n",
    "    for j = 1:size(zone, 1)\n",
    "        data = DataFrame(Année = zone.Année[j], MoyTemp = zone.MoyTemp[j], CountJoursFroid = zone.CountJoursFroid[j], RecolteAnneePassee = zone.RecolteAnneePassee[j])\n",
    "        ŷ = predict(models[i], data)\n",
    "        zone[j, :Prediction] = Int64(ceil(ŷ[1]))\n",
    "    end\n",
    "end\n"
   ]
  },
  {
   "cell_type": "code",
   "execution_count": null,
   "id": "c07471f3",
   "metadata": {},
   "outputs": [],
   "source": [
    "pp = Plot[]\n",
    "\n",
    "for i = 1:length(new_zones)\n",
    "    p = plot(\n",
    "            layer(new_zones[i], x=:Année, y=:Cerfs, Geom.point, Geom.line, Theme(default_color=colorant\"green\")),\n",
    "            layer(new_zones[i], x=:Année, y=:Prediction, Geom.point, Geom.line, Theme(default_color=colorant\"red\")))\n",
    "    push!(pp, p)\n",
    "end\n",
    "\n",
    "p = reshape(pp, (19,1))\n",
    "\n",
    "set_default_plot_size(25cm, 100cm)\n",
    "gridstack(p)"
   ]
  },
  {
   "cell_type": "code",
   "execution_count": null,
   "id": "e3f928db",
   "metadata": {},
   "outputs": [],
   "source": [
    "# Calculate average squared error for all predictions\n",
    "function mse(predictions, actual)\n",
    "    sum((predictions .- actual).^2) / length(predictions)\n",
    "end\n",
    "\n",
    "# Calculate average squared error for all predictions\n",
    "score = 0\n",
    "for zone in new_zones\n",
    "    score += mse(zone.Prediction, zone.Cerfs)\n",
    "end\n",
    "score = sqrt(score / length(new_zones))"
   ]
  },
  {
   "cell_type": "markdown",
   "id": "8aeb7835",
   "metadata": {},
   "source": [
    "#### 5.2.3 Estimation du nombre de cerfs récoltés en 2021"
   ]
  },
  {
   "cell_type": "code",
   "execution_count": null,
   "id": "926a2c66",
   "metadata": {},
   "outputs": [],
   "source": [
    "prediction = DataFrame(Zone = Int64[], Cerfs = Int64[])\n",
    "\n",
    "cold_days_2020 = count_cold_days(temp_limit, true)[1, :].CountJoursFroid\n",
    "\n",
    "meteo_moy = deepcopy(meteo)\n",
    "meteo_moy = GetRowsInPeriod(deepcopy(meteo))\n",
    "meteo_moy = meteo_moy[.!ismissing.(meteo_moy.MeanTemp), :]\n",
    "meteo_moy[!, :Date] = Dates.year.(meteo_moy[!, :Date])\n",
    "meteo_moy = meteo_moy[meteo_moy[!, :Date] .== 2021, :]\n",
    "\n",
    "moy_temp_2021 = combine(groupby(meteo_moy, :Date), :MeanTemp => mean => :MeanTemp)[1, :].MeanTemp\n",
    "\n",
    "zone_cerfs = deepcopy(recolte)\n",
    "zone_cerfs = groupby(recolte, :Zone)\n",
    "for (i, model) in enumerate(models)\n",
    "    recoltes_temp = combine(groupby(zone_cerfs[i], :Année), :Cerfs => sum => :Cerfs)\n",
    "    sort!(recoltes_temp, :Année)\n",
    "    recolte_annee_passee = recoltes_temp[end, :].Cerfs\n",
    "    data = DataFrame(Année = 2021, MoyTemp = moy_temp_2021, CountJoursFroid = cold_days_2020, RecolteAnneePassee = recolte_annee_passee)\n",
    "    pred = max(Int64(ceil(predict(model, data)[1])), 0)\n",
    "    push!(prediction, [zone_cerfs[i].Zone[1], pred])\n",
    "end\n",
    "prediction = prediction[prediction[!, :Zone] .!= 21, :]\n",
    "CSV.write(\"Charles_Année-moyTemp-Jours5C-recolte.csv\", prediction)"
   ]
  },
  {
   "cell_type": "markdown",
   "id": "cfbcd833",
   "metadata": {},
   "source": [
    "### 5.3 Ajout de quantité de jours avec beaucoup de neige au sol l'an passé"
   ]
  },
  {
   "cell_type": "markdown",
   "id": "587100cf",
   "metadata": {},
   "source": [
    "##### 5.3.1 Ajustement du modèle"
   ]
  },
  {
   "cell_type": "code",
   "execution_count": null,
   "id": "0748996c",
   "metadata": {},
   "outputs": [],
   "source": [
    "temp_limit = 5\n",
    "limite_neige_grnd = 8\n",
    "meteo_moy = getTempMoy()\n",
    "new_zones = DataFrame(Zone = Int64[], Année = Int64[], Cerfs = Int64[], CountJoursFroid = Int64[], MoyTemp = Float64[], RecolteAnneePassee = Int64[], CountJoursNeigeGrnd = Int64[])\n",
    "meteo_count_zone = count_cold_days(temp_limit)\n",
    "neige_grnd = count_snow_grnd_days(limite_neige_grnd)\n",
    "\n",
    "\n",
    "meteo_count_zone[!, :CountJoursNeigeGrnd] .= neige_grnd[!, :CountJoursNeigeGrnd]\n",
    "\n",
    "zones = groupby(meteo_count_zone, :Zone)\n",
    "\n",
    "zones_cerfs = groupby(recolte, :Zone)\n",
    "zones_cerfs = [zones_cerfs[i][zones_cerfs[i][!, :Année] .!= 2013, :] for i in 1:length(zones_cerfs)]\n",
    "\n",
    "for (i, zone) in enumerate(zones)\n",
    "    zone = zone[zone[!, :Année] .!= 2013, :]\n",
    "    meteo_moy_temp = meteo_moy[findall(x -> x in zone.Année, meteo_moy.Date), :]\n",
    "    zone[!, :MoyTemp] .= meteo_moy_temp.MeanTemp\n",
    "    \n",
    "    zone_cerfs = combine(groupby(zones_cerfs[i], :Année), :Cerfs => sum => :Cerfs)\n",
    "    zone_cerfs[!, :Année] = zone_cerfs[!, :Année] .+ 1\n",
    "    zone_cerfs = zone_cerfs[findall(x -> x in meteo_moy_temp.Date, zone_cerfs.Année), :]\n",
    "    zone = zone[findall(x -> x in zone_cerfs.Année, zone.Année), :]\n",
    "    zone[!, :RecolteAnneePassee] .= zone_cerfs.Cerfs\n",
    "    append!(new_zones, zone)\n",
    "end\n",
    "\n",
    "new_zones = groupby(new_zones, :Zone)"
   ]
  },
  {
   "cell_type": "code",
   "execution_count": null,
   "id": "fd3093e1",
   "metadata": {},
   "outputs": [],
   "source": [
    "models = Any[]\n",
    "\n",
    "for zone in new_zones\n",
    "    model = lm(@formula(Cerfs ~ Année + MoyTemp + CountJoursFroid + RecolteAnneePassee + CountJoursNeigeGrnd), zone)\n",
    "    push!(models, model)\n",
    "end"
   ]
  },
  {
   "cell_type": "markdown",
   "id": "fc4c1d05",
   "metadata": {},
   "source": [
    "##### 5.3.2 Validation graphique"
   ]
  },
  {
   "cell_type": "code",
   "execution_count": null,
   "id": "d5f8350a",
   "metadata": {},
   "outputs": [],
   "source": [
    "for (i, zone) in enumerate(new_zones)\n",
    "    zone[!, :Prediction] .= 0\n",
    "    for j = 1:size(zone, 1)\n",
    "        data = DataFrame(Année = zone[j, :Année], MoyTemp = zone[j, :MoyTemp], CountJoursFroid = zone[j, :CountJoursFroid], RecolteAnneePassee = zone[j, :RecolteAnneePassee], CountJoursNeigeGrnd = zone[j, :CountJoursNeigeGrnd])\n",
    "        ŷ = Int64(ceil(predict(models[i], data)[1]))\n",
    "        zone[j, :Prediction] = Int64(ceil(ŷ[1]))\n",
    "    end\n",
    "end"
   ]
  },
  {
   "cell_type": "code",
   "execution_count": null,
   "id": "4a6a4a55",
   "metadata": {},
   "outputs": [],
   "source": [
    "pp = Plot[]\n",
    "\n",
    "for i = 1:length(new_zones)\n",
    "    p = plot(\n",
    "            layer(new_zones[i], x=:Année, y=:Cerfs, Geom.point, Geom.line, Theme(default_color=colorant\"green\")),\n",
    "            layer(new_zones[i], x=:Année, y=:Prediction, Geom.point, Geom.line, Theme(default_color=colorant\"red\")))\n",
    "    push!(pp, p)\n",
    "end\n",
    "\n",
    "p = reshape(pp, (19,1))\n",
    "\n",
    "set_default_plot_size(25cm, 100cm)\n",
    "gridstack(p)"
   ]
  },
  {
   "cell_type": "code",
   "execution_count": null,
   "id": "84b682b9",
   "metadata": {},
   "outputs": [],
   "source": [
    "# Calculate average squared error for all predictions\n",
    "function mse(predictions, actual)\n",
    "    sum((predictions .- actual).^2) / length(predictions)\n",
    "end\n",
    "\n",
    "# Calculate average squared error for all predictions\n",
    "score = 0\n",
    "for zone in new_zones\n",
    "    score += mse(zone.Prediction, zone.Cerfs)\n",
    "end\n",
    "score = sqrt(score / length(new_zones))"
   ]
  },
  {
   "cell_type": "markdown",
   "id": "05ba1daa",
   "metadata": {},
   "source": [
    "### 5.4 Ajout de quantité de jours avec beaucoup de neige tombée l'an passé"
   ]
  },
  {
   "cell_type": "markdown",
   "id": "79c3e1ef",
   "metadata": {},
   "source": [
    "##### 5.4.1 Ajustement du modèle"
   ]
  },
  {
   "cell_type": "code",
   "execution_count": null,
   "id": "c271e2ce",
   "metadata": {},
   "outputs": [],
   "source": [
    "temp_limit = 5\n",
    "limite_neige_grnd = 8\n",
    "limite_neige_fall = 2\n",
    "meteo_moy = getTempMoy()\n",
    "new_zones = DataFrame(Zone = Int64[], Année = Int64[], Cerfs = Int64[], CountJoursFroid = Int64[], MoyTemp = Float64[], RecolteAnneePassee = Int64[], CountJoursNeigeGrnd = Int64[], CountJoursNeigeFall = Int64[])\n",
    "meteo_count_zone = count_cold_days(temp_limit, false, 1)\n",
    "neige_grnd = count_snow_grnd_days(limite_neige_grnd, false, 1)\n",
    "snow_fall = count_snow_fall_days(limite_neige_fall, false, 1)\n",
    "\n",
    "meteo_count_zone[!, :CountJoursNeigeGrnd] .= neige_grnd[!, :CountJoursNeigeGrnd]\n",
    "meteo_count_zone[!, :CountJoursNeigeFall] .= snow_fall[!, :CountJoursNeigeFall]\n",
    "\n",
    "zones = groupby(meteo_count_zone, :Zone)\n",
    "\n",
    "zones_cerfs = groupby(recolte, :Zone)\n",
    "zones_cerfs = [zones_cerfs[i][zones_cerfs[i][!, :Année] .!= 2013, :] for i in 1:length(zones_cerfs)]\n",
    "\n",
    "for (i, zone) in enumerate(zones)\n",
    "    zone = zone[zone[!, :Année] .!= 2013, :]\n",
    "    meteo_moy_temp = meteo_moy[findall(x -> x in zone.Année, meteo_moy.Date), :]\n",
    "    zone[!, :MoyTemp] .= meteo_moy_temp.MeanTemp\n",
    "    \n",
    "    zone_cerfs = combine(groupby(zones_cerfs[i], :Année), :Cerfs => sum => :Cerfs)\n",
    "    zone_cerfs[!, :Année] = zone_cerfs[!, :Année] .+ 1\n",
    "    zone_cerfs = zone_cerfs[findall(x -> x in meteo_moy_temp.Date, zone_cerfs.Année), :]\n",
    "    zone = zone[findall(x -> x in zone_cerfs.Année, zone.Année), :]\n",
    "    zone[!, :RecolteAnneePassee] .= zone_cerfs.Cerfs\n",
    "    append!(new_zones, zone)\n",
    "end\n",
    "\n",
    "\n",
    "train_size = 0.90\n",
    "Random.seed!(11231)\n",
    "ids = collect(axes(new_zones, 1))\n",
    "shuffle!(ids)\n",
    "train_zones = new_zones[ids[1:round(Int, train_size * length(ids))], :]\n",
    "valid_zones = new_zones[ids[round(Int, train_size * length(ids)):end], :]\n",
    "train_zones = groupby(train_zones, :Zone)\n",
    "valid_zones = groupby(valid_zones, :Zone)\n"
   ]
  },
  {
   "cell_type": "code",
   "execution_count": null,
   "id": "edb895b8",
   "metadata": {},
   "outputs": [],
   "source": [
    "models = Any[]\n",
    "\n",
    "for zone in train_zones\n",
    "    model = lm(@formula(Cerfs ~ Année + MoyTemp + CountJoursFroid + RecolteAnneePassee + CountJoursNeigeGrnd + CountJoursNeigeFall), zone)\n",
    "    push!(models, model)\n",
    "end"
   ]
  },
  {
   "cell_type": "markdown",
   "id": "40aa0f69",
   "metadata": {},
   "source": [
    "##### 5.4.3 Validation graphique"
   ]
  },
  {
   "cell_type": "code",
   "execution_count": null,
   "id": "aaa5ea8d",
   "metadata": {},
   "outputs": [],
   "source": [
    "grouped_zones = groupby(deepcopy(new_zones), :Zone)\n",
    "for (i, zone) in enumerate(grouped_zones)\n",
    "    zone[!, :Prediction] .= 0\n",
    "    for j = 1:size(zone, 1)\n",
    "        data = DataFrame(Année = zone.Année[j], MoyTemp = zone.MoyTemp[j], CountJoursFroid = zone.CountJoursFroid[j], RecolteAnneePassee = zone.RecolteAnneePassee[j], CountJoursNeigeGrnd = zone.CountJoursNeigeGrnd[j], CountJoursNeigeFall = zone.CountJoursNeigeFall[j])\n",
    "        ŷ = predict(models[i], data)\n",
    "        zone[j, :Prediction] = Int64(ceil(ŷ[1]))\n",
    "    end\n",
    "end"
   ]
  },
  {
   "cell_type": "code",
   "execution_count": null,
   "id": "7217d88f",
   "metadata": {},
   "outputs": [],
   "source": [
    "pp = Plot[]\n",
    "\n",
    "for i = 1:length(grouped_zones)\n",
    "    p = plot(\n",
    "            layer(grouped_zones[i], x=:Année, y=:Cerfs, Geom.point, Geom.line, Theme(default_color=colorant\"green\")),\n",
    "            layer(grouped_zones[i], x=:Année, y=:Prediction, Geom.point, Geom.line, Theme(default_color=colorant\"red\")))\n",
    "    push!(pp, p)\n",
    "end\n",
    "\n",
    "p = reshape(pp, (19,1))\n",
    "\n",
    "set_default_plot_size(25cm, 100cm)\n",
    "gridstack(p)"
   ]
  },
  {
   "cell_type": "code",
   "execution_count": null,
   "id": "1178bd19",
   "metadata": {},
   "outputs": [],
   "source": [
    "function getModelIndexFromZone(zone)\n",
    "\n",
    "    to_return = 0\n",
    "    for i = 1:nrow(test)\n",
    "        if test[i, :Zone] == zone\n",
    "            to_return = i\n",
    "            break\n",
    "        end\n",
    "    end\n",
    "    if zone == 21\n",
    "        return 17\n",
    "    elseif zone >= 21\n",
    "        return to_return + 1\n",
    "    else\n",
    "        return to_return\n",
    "    end\n",
    "end"
   ]
  },
  {
   "cell_type": "code",
   "execution_count": null,
   "id": "c79dc810",
   "metadata": {},
   "outputs": [],
   "source": [
    "function getScore(df, models)\n",
    "    df_temp = deepcopy(df)\n",
    "    for (i, zone) in enumerate(df_temp)\n",
    "        zone[!, :Prediction] .= 0\n",
    "        for j = 1:size(zone, 1)\n",
    "            data = DataFrame(Année = zone.Année[j], MoyTemp = zone.MoyTemp[j], CountJoursFroid = zone.CountJoursFroid[j], RecolteAnneePassee = zone.RecolteAnneePassee[j], CountJoursNeigeGrnd = zone.CountJoursNeigeGrnd[j], CountJoursNeigeFall = zone.CountJoursNeigeFall[j])\n",
    "            ŷ = predict(models[getModelIndexFromZone(zone[!, :Zone][1])], data)\n",
    "            zone[j, :Prediction] = Int64(ceil(ŷ[1]))\n",
    "        end\n",
    "    end\n",
    "\n",
    "    score = 0\n",
    "    for zone in df_temp\n",
    "        score += mse(zone.Prediction, zone.Cerfs)\n",
    "    end\n",
    "    return sqrt(score / length(valid_zones))\n",
    "end"
   ]
  },
  {
   "cell_type": "code",
   "execution_count": null,
   "id": "61f464dd",
   "metadata": {},
   "outputs": [],
   "source": [
    "println(\"train score: \", getScore(train_zones, models))\n",
    "println(\"valid score: \", getScore(valid_zones, models))\n",
    "println(\"total score: \", getScore(grouped_zones, models))"
   ]
  },
  {
   "cell_type": "markdown",
   "id": "a51fba21",
   "metadata": {},
   "source": [
    "#### 5.5 Regression Ridge"
   ]
  },
  {
   "cell_type": "code",
   "execution_count": null,
   "id": "84d6bb7f",
   "metadata": {},
   "outputs": [],
   "source": [
    "models = DataFrame(lambda = Float64[], Zone = Int64[], model = Any[])\n",
    "standard_fits = DataFrame(Zone = Int64[], dt = Any[])\n",
    "valid_performance = DataFrame(Zone = Int64[], lambda = Float64[], rmse = Float64[])\n",
    "\n",
    "display(train_zones[1][:, 2:end])\n",
    "for lambda = 0:0.1:50\n",
    "    \n",
    "    # Avec seulement 2 points pour la zone 28, on ne peut pas faire de régression linéaire\n",
    "    for (i, zone) in enumerate(train_zones[1:end-1])\n",
    "        train = zone[:, 2:end]\n",
    "        dt = StatsBase.fit(StatsBase.ZScoreTransform, Matrix{Float64}(train), dims=1)\n",
    "        push!(standard_fits, [zone[1, 1], dt])\n",
    "        trans_train = StatsBase.transform(dt, Matrix{Float64}(train))\n",
    "\n",
    "        X = trans_train[:, 1:end .!= 2] \n",
    "        y = trans_train[:, 2]\n",
    "\n",
    "        B = (X'X + lambda*I)\\X'y\n",
    "\n",
    "        push!(models, [lambda, zone[1, 1], B])\n",
    "    end\n",
    "\n",
    "    for (i, zone) in enumerate(valid_zones)\n",
    "        valid = zone[:, 2:end]\n",
    "        dt = standard_fits[standard_fits[!, :Zone] .== zone[1, :Zone], :].dt[1]\n",
    "        trans_valid = StatsBase.transform(dt, Matrix{Float64}(valid))\n",
    "        X_valid = trans_valid[:, 1:end .!=2]\n",
    "        y_valid = trans_valid[:, 2]\n",
    "\n",
    "        B = models[models[!, :Zone] .== zone[1, :Zone], :].model[end]\n",
    "        y_pred = X_valid * B\n",
    "\n",
    "        rmse = StatsBase.rmsd(y_pred, y_valid)\n",
    "        push!(valid_performance, [zone[1, :Zone], lambda, rmse])\n",
    "    end\n",
    "end"
   ]
  },
  {
   "cell_type": "code",
   "execution_count": null,
   "id": "9e2c676f",
   "metadata": {},
   "outputs": [],
   "source": [
    "valid_performance_zone = groupby(valid_performance, :Zone)\n",
    "best_lambdas = DataFrame(Zone = Int64[], lambda = Float64[])\n",
    "for zone in valid_performance_zone\n",
    "    push!(best_lambdas, [zone[1, :Zone], zone.lambda[argmin(zone.rmse)]])\n",
    "end\n",
    "display(best_lambdas)"
   ]
  },
  {
   "cell_type": "markdown",
   "id": "c3174272",
   "metadata": {},
   "source": [
    "#### 5.5.2 Prédiction avec modèle Ridge "
   ]
  },
  {
   "cell_type": "code",
   "execution_count": null,
   "id": "a8de6066",
   "metadata": {},
   "outputs": [],
   "source": [
    "prediction_scaled = DataFrame(Zone = Int64[], Cerfs = Float64[])\n",
    "prediction_unscaled = DataFrame(Zone = Int64[], Cerfs = Int64[])\n",
    "\n",
    "cold_days_2020 = count_cold_days(temp_limit, true)[1, :].CountJoursFroid\n",
    "\n",
    "meteo_moy = deepcopy(meteo)\n",
    "meteo_moy = GetRowsInPeriod(deepcopy(meteo))\n",
    "meteo_moy = meteo_moy[.!ismissing.(meteo_moy.MeanTemp), :]\n",
    "meteo_moy[!, :Date] = Dates.year.(meteo_moy[!, :Date])\n",
    "meteo_moy = meteo_moy[meteo_moy[!, :Date] .== 2021, :]\n",
    "\n",
    "neige_grnd = count_snow_grnd_days(limite_neige_grnd, true, 1)[1, :].CountJoursNeigeGrnd\n",
    "snow_fall = count_snow_fall_days(limite_neige_fall, true, 1)[1, :].CountJoursNeigeFall\n",
    "\n",
    "moy_temp_2021 = combine(groupby(meteo_moy, :Date), :MeanTemp => mean => :MeanTemp)[1, :].MeanTemp\n",
    "\n",
    "zone_cerfs = deepcopy(recolte)\n",
    "zone_cerfs = zone_cerfs[zone_cerfs[!, :Zone] .!= 21, :]\n",
    "zone_cerfs = zone_cerfs[zone_cerfs[!, :Zone] .!= 28, :]\n",
    "zone_cerfs = groupby(zone_cerfs, :Zone)\n",
    "\n",
    "for (i, zone) in enumerate(zone_cerfs)\n",
    "    recoltes_temp = combine(groupby(zone_cerfs[i], :Année), :Cerfs => sum => :Cerfs)\n",
    "    sort!(recoltes_temp, :Année)\n",
    "    recolte_annee_passee = recoltes_temp[end, :].Cerfs\n",
    "\n",
    "    data = DataFrame(Année = 2021,  Cerfs = 0, CountJoursFroid = cold_days_2020,MoyTemp = moy_temp_2021, RecolteAnneePassee = recolte_annee_passee, CountJoursNeigeGrnd = neige_grnd, CountJoursNeigeFall = snow_fall)\n",
    "    data = Matrix{Float64}(data)\n",
    "\n",
    "    B = models[models[!, :lambda] .== (best_lambdas[best_lambdas[!, :Zone] .== zone.Zone[1], :].lambda[1]), :].model[1]\n",
    "    dt = standard_fits[standard_fits[!, :Zone] .== zone.Zone[1], :].dt[1]\n",
    "    data = StatsBase.transform(dt, data)\n",
    "    data = data[:, 1:end .!= 2]\n",
    "    display(data)\n",
    "    pred = (data * B)[1]\n",
    "    push!(prediction_scaled, [zone.Zone[1], pred])\n",
    "end\n",
    "# prediction = prediction[prediction[!, :Zone] .!= 21, :]\n",
    "\n",
    "temp_df = deepcopy(new_zones)\n",
    "temp_df[!,:Cerfs] = convert.(Float64, temp_df[!,:Cerfs])\n",
    "temp_df[1:nrow(prediction_scaled), :Cerfs] = prediction_scaled[!, :Cerfs]\n",
    "println(prediction_scaled[!, :Cerfs])\n",
    "for i = 1:nrow(prediction_scaled)\n",
    "    dt = standard_fits[standard_fits[!, :Zone] .== prediction_scaled.Zone[i], :].dt[1]\n",
    "    line_to_reconstruct = transpose(Matrix(temp_df)[i, 2:end])\n",
    "    # display(line_to_reconstruct)\n",
    "    push!(prediction_unscaled, [prediction.Zone[i], max(Int64(ceil(StatsBase.reconstruct(dt, line_to_reconstruct)[2])), 0) ])\n",
    "    println(line_to_reconstruct)\n",
    "end\n",
    "CSV.write(\"Charles_Année-moyTemp-Jours5C-recolte-Ridge.csv\", prediction_unscaled)"
   ]
  }
 ],
 "metadata": {
  "@webio": {
   "lastCommId": null,
   "lastKernelId": null
  },
  "hide_input": false,
  "kernelspec": {
   "display_name": "Julia 1.8.0",
   "language": "julia",
   "name": "julia-1.8"
  },
  "language_info": {
   "file_extension": ".jl",
   "mimetype": "application/julia",
   "name": "julia",
   "version": "1.8.0"
  }
 },
 "nbformat": 4,
 "nbformat_minor": 5
}
