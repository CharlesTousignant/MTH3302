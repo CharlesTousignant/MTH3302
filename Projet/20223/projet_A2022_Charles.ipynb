{
 "cells": [
  {
   "cell_type": "markdown",
   "id": "131b624d",
   "metadata": {},
   "source": [
    "# MTH3302 : Méthodes probabilistes et statistiques pour l'I.A.\n",
    "\n",
    "Jonathan Jalbert<br/>\n",
    "Professeur adjoint au Département de mathématiques et de génie industriel<br/>\n",
    "Polytechnique Montréal<br/>\n",
    "\n",
    "\n",
    "Le projet a été préparé par Gabriel Gobeil, associé de recherche à Polytechnique Montréal.\n",
    "\n",
    "---\n",
    "# Projet A2022 : Récolte des cerfs de Virginie\n",
    "\n",
    "\n",
    "La description du projet est disponible à l'adresse suivante : https://www.kaggle.com/t/23b6d8c44f1247c78e19a6a902f804af\n",
    "\n",
    "Ce calepin Jupyter de base permet de charger et de nettoyer les données fournies. La dernière section détaille la génération du fichier des prédictions afin de le soumettre sur Kaggle dans le bon format.\n",
    "\n",
    "### Données\n",
    "\n",
    "Dans un premier temps, vous devrez récupérer les données sur Kaggle. Les fichiers disponibles sont les suivants :\n",
    "- recolte.csv\n",
    "- permis.csv\n",
    "- meteo.csv\n",
    "- essence.csv\n",
    "- test.csv\n",
    "\n",
    "**Déposez ces fichiers dans un dossier nommé *data* dans le répertoire de ce calepin.**\n",
    "\n",
    "Le fichier *recolte.csv* contient les statistiques de chasse au cerf de Viriginie. On y retrouve le nombre de cerfs mâles adultes récoltés annuellement dans certaines zones de chasse du Québec, listé selon le type d'engin utilisé.\n",
    "\n",
    "Le fichier *permis.csv* contient des informations sur le nombre de permis de chasse aux cerfs de Virginie alloués aux résidents et non-résidents de 1999 à 2020.\n",
    "\n",
    "Le fichier *meteo.csv* contient certaines variables météorologiques enregistrées à la station Montréal-Trudeau de 1999 à 2021 :\n",
    "- Mean Temp (°C)\t\n",
    "- Total Rain (mm)\t\n",
    "- Total Snow (cm)\t\n",
    "- Snow on Grnd (cm)\n",
    "\n",
    "Le fichier *essence.csv* contient des informations sur le prix de détail moyen par mois de l'essence pour Québec et Montréal de 1999 à 2021. Des renseignements additionnels sur les données sont disponibles à l'adresse suivante : https://www150.statcan.gc.ca/t1/tbl1/fr/cv.action?pid=1810000101\n",
    "\n",
    "Le fichier *test.csv* contient les zones de chasse pour lesquels vous devez prédire le nombre de cerfs mâles adultes récoltés pour l'année 2021, peu importe l'engin de chasse utilisé. La qualité de vos prédictions sera ensuite évaluée lorsque vous les téléverserez sur Kaggle. Vos prédictions seront comparées à celles des autres équipes de la classe.\n",
    "\n",
    "### Consignes\n",
    "\n",
    "- Vous devez constituer une équipe de 3 à 5 personnes.\n",
    "- Au moins une solution doit être proposée sur Kaggle.\n",
    "- Utilisez votre identifiant d'équipe pour téléverser vos prédictions sur Kaggle.\n",
    "- Un seul calepin *.ipynb* par équipe doit être remis. Ce fichier documente et illustre la procédure qui vous a permis de produire vos meilleures prédictions. Ce fichier constitue le rapport final du projet.\n",
    "- Le langage Julia doit être utilisé.\n",
    "- Votre démarche doit être rigoureusement justifiée (consultez la grille de correction pour vous orienter).\n",
    "\n",
    "### Quelques conseils\n",
    "\n",
    "Votre calepin doit permettre à une personne à l'extérieur de l'équipe de comprendre votre démarche et de reproduire vos résultats. Par exemple, une bonne façon de faire consiste à expliquer dans une cellule de texte la tâche qui est accomplie dans la cellule de code suivante. \n",
    "\n",
    "Je vous encourage fortement à faire une analyse exploratoire des données pour développer une meilleure expertise du problème. C'est une étape qui est toujours négligée mais qui est essentielle. C'est avec l'analyse exploratoire que vous viendra des idées d'amélioration, comme par exemple créer de nouvelles variables explicatives.\n",
    "\n",
    "Vous pouvez utiliser directement tout ce qui se trouve dans les notes de cours sans explication et toutes les librairies utilisées dans le cours (incluant mes fonctions).\n",
    "\n",
    "Ce calepin contient un modèle très simple de prédiction : on n'utilise qu'une seule variable explicative. Ce sera votre travail d'améliorer ces prédictions avec la méthode et les variables de votre choix.\n",
    "\n",
    "S'il y a des données manquantes, ce sera à vous de traiter ce problème. La plupart du temps, une méthode simple d'imputation (de remplacement) des données manquantes est suffisante.\n",
    "\n",
    "Prenez la peine de documenter succinctement les essais infructueux. Ce n'est pas nécessaire de les expliquer en détails, mais c'est important de les mentionner dans la discussion avec une raison possible de leur échec. De cette façon, une personne qui reprendra votre travail dans le futur ne perdra pas de temps à réessayer une méthode infructueuse déjà testée.\n",
    "\n",
    "Vous pouvez aussi indiquer dans votre rapport les raisons qui vous font croire pourquoi une méthode a moins bien performée de ce qui était attendu. Vous pouvez également mentionner ce que vous auriez pu tenter si vous aviez eu plus de temps ou plus de données. L'idée est de guider l'analyste qui prendrait la relève de votre travail.\n",
    "\n",
    "Vous êtes limités à deux soumissions par jour UTC par équipe sur Kaggle. Je vous suggère donc de bien tester vos modèles localement et de ne téléverser que vos meilleurs prédictions de la journée."
   ]
  },
  {
   "cell_type": "code",
   "execution_count": null,
   "id": "1038ac25",
   "metadata": {},
   "outputs": [],
   "source": [
    "using CSV, DataFrames, Statistics, Dates, Gadfly, GLM, DataStructures"
   ]
  },
  {
   "cell_type": "markdown",
   "id": "99e1462f",
   "metadata": {},
   "source": [
    "---\n",
    "## 1. Chargement de données"
   ]
  },
  {
   "cell_type": "markdown",
   "id": "ccc9d08f",
   "metadata": {},
   "source": [
    "#### Récolte annuelle de cerfs par zones de chasse selon les différents engins"
   ]
  },
  {
   "cell_type": "code",
   "execution_count": null,
   "id": "b3b7a5f3",
   "metadata": {},
   "outputs": [],
   "source": [
    "recolte = CSV.read(\"data/recolte.csv\", DataFrame)\n",
    "first(recolte, 5)"
   ]
  },
  {
   "cell_type": "markdown",
   "id": "f9f40777",
   "metadata": {},
   "source": [
    "#### Nombre de permis de chasse alloués annuellement aux résidents et non-résidents"
   ]
  },
  {
   "cell_type": "code",
   "execution_count": null,
   "id": "08cf1bcf",
   "metadata": {},
   "outputs": [],
   "source": [
    "permis = CSV.read(\"data/permis.csv\", DataFrame)\n",
    "first(permis, 5)"
   ]
  },
  {
   "cell_type": "markdown",
   "id": "33e47467",
   "metadata": {},
   "source": [
    "#### Moyenne mensuelle du prix de détail de l'essence en cents pour Québec et Montréal"
   ]
  },
  {
   "cell_type": "code",
   "execution_count": null,
   "id": "6758cd47",
   "metadata": {},
   "outputs": [],
   "source": [
    "essence = CSV.read(\"data/essence.csv\", DataFrame)\n",
    "first(essence, 5)"
   ]
  },
  {
   "cell_type": "markdown",
   "id": "b7030daa",
   "metadata": {},
   "source": [
    "#### Données météorologiques quotidiennes à Montréal-Trudeau entre 1999 et 2021"
   ]
  },
  {
   "cell_type": "code",
   "execution_count": null,
   "id": "060b9861",
   "metadata": {},
   "outputs": [],
   "source": [
    "meteo = CSV.read(\"data/meteo.csv\", DataFrame)\n",
    "colnames = [\"Date\",\"MeanTemp\",\"TotalRain\", \"TotalSnow\", \"SnowOnGrnd\"]\n",
    "rename!(meteo, Symbol.(colnames))\n",
    "first(meteo, 5)"
   ]
  },
  {
   "cell_type": "markdown",
   "id": "aa7291d3",
   "metadata": {},
   "source": [
    "---\n",
    "## 2. Analyse exploratoire\n",
    "\n",
    "Cette section consitue une analyse exploratoire superficielle permettant de se familiariser avec les données. C'est une analyse exploratoire sommaire. Je vous encourage fortement à poursuivre cette analyse."
   ]
  },
  {
   "cell_type": "markdown",
   "id": "141cdcbe",
   "metadata": {},
   "source": [
    "#### 2.1 Quantité de cerfs récoltés annuellement dans toutes les zones pour tous les engins de chasse"
   ]
  },
  {
   "cell_type": "code",
   "execution_count": null,
   "id": "9f8d8ec0",
   "metadata": {},
   "outputs": [],
   "source": [
    "set_default_plot_size(16cm, 10cm)\n",
    "df = combine(groupby(recolte, :Année), :Cerfs => sum => :Cerfs)\n",
    "plot(df, x=:Année, y=:Cerfs, Geom.line, Geom.point)"
   ]
  },
  {
   "cell_type": "code",
   "execution_count": null,
   "id": "8d9ff6e1",
   "metadata": {},
   "outputs": [],
   "source": [
    "set_default_plot_size(16cm, 10cm)\n",
    "plot(permis, x=:Année, y=:Total, Geom.line, Geom.point,\n",
    "    Guide.ylabel(\"permis vendus\"))"
   ]
  },
  {
   "cell_type": "code",
   "execution_count": null,
   "id": "d20b1054",
   "metadata": {},
   "outputs": [],
   "source": [
    "df2 = innerjoin(df, permis, on = :Année)\n",
    "\n",
    "plot(df2, x=:Total, y=:Cerfs, Geom.point,\n",
    "    Guide.xlabel(\"permis vendus\"),\n",
    "    Guide.ylabel(\"cerfs récoltés\"))"
   ]
  },
  {
   "cell_type": "markdown",
   "id": "116cbb7d",
   "metadata": {},
   "source": [
    "#### 2.2 Quantité de cerfs récoltés annuellement dans les différentes zones de chasse\n",
    "\n",
    "On doit d'abord additionner le nombre de cerfs récoltés selon les différents engins de chasse."
   ]
  },
  {
   "cell_type": "code",
   "execution_count": null,
   "id": "591d14ad",
   "metadata": {},
   "outputs": [],
   "source": [
    "zones = groupby(recolte, :Zone)  # On groupe les données par zone\n",
    "\n",
    "new_df = DataFrame(Année = Int64[], Zone = Int64[], Cerfs= Int64[])  # On initialise un DataFrame vide\n",
    "\n",
    "for zone in zones  # Pour chaque zone de chasse,\n",
    "    \n",
    "    # pour chaque année,\n",
    "    # on additionne le nombre de cerfs récoltés selon les différents engins de chasse\n",
    "    df = combine(groupby(zone, :Année), :Cerfs => sum => :Cerfs)  \n",
    "    \n",
    "    df2 = DataFrame(Année = df.Année, \n",
    "                    Zone = fill(unique(zone.Zone)[1], size(df, 1)),\n",
    "                    Cerfs = df.Cerfs) \n",
    "    \n",
    "    append!(new_df, df2)  # On ajoute l'information au DataFrame préinitialisé \n",
    "end\n",
    "\n",
    "sort!(new_df, :Année)\n",
    "first(new_df, 5)  "
   ]
  },
  {
   "cell_type": "code",
   "execution_count": null,
   "id": "3a78776c",
   "metadata": {},
   "outputs": [],
   "source": [
    "groupby(new_df, :Zone)[1].Zone[1]"
   ]
  },
  {
   "cell_type": "code",
   "execution_count": null,
   "id": "9884699d",
   "metadata": {},
   "outputs": [],
   "source": [
    "zones = unique(new_df[!, :Zone])\n",
    "pp = Plot[]\n",
    "set_default_plot_size(16cm, 10cm)\n",
    "for i = 1:length(zones)\n",
    "    p = plot(groupby(new_df, :Zone)[i], x=:Année, y=:Cerfs, Geom.point, Geom.line, Guide.title(\"Zone $(groupby(new_df, :Zone)[i].Zone[1])\"))\n",
    "    push!(pp, p)\n",
    "end"
   ]
  },
  {
   "cell_type": "code",
   "execution_count": null,
   "id": "609735ac",
   "metadata": {},
   "outputs": [],
   "source": [
    "p = reshape(pp, (19, 1))\n",
    "\n",
    "set_default_plot_size(25cm, 100cm)\n",
    "gridstack(p)"
   ]
  },
  {
   "cell_type": "markdown",
   "id": "35764c9c",
   "metadata": {},
   "source": [
    "#### 2.3 Quantité de données pour chaque zone\n",
    "\n",
    "Il est pertinent de regarder s'il y a une différence importante entre la quantité de données fournie pour chaque zone"
   ]
  },
  {
   "cell_type": "code",
   "execution_count": null,
   "id": "455bc810",
   "metadata": {},
   "outputs": [],
   "source": [
    "counter(recolte[!, :Zone])"
   ]
  },
  {
   "cell_type": "markdown",
   "id": "ab1085b0",
   "metadata": {},
   "source": [
    "#### 2.4 Prix de l'essence moyen par année\n",
    "\n",
    "Cette donnée est fort probablement corélée avec l'année, du à l'inflation, mais cela reste une donnée pertinente"
   ]
  },
  {
   "cell_type": "code",
   "execution_count": null,
   "id": "64169d5c",
   "metadata": {},
   "outputs": [],
   "source": [
    "essence[!, :Année] = Dates.year.(essence[!, :Mois])\n",
    "# on enlève les années sans données de récolte\n",
    "essence = essence[essence[!, :Année] .>= 1999, :]\n",
    "essence = essence[essence[!, :Année] .<= 2020, :]\n",
    "\n",
    "moy_essence = combine(groupby(essence, :Année), :Québec => mean => :Québec)\n",
    "moy_mtl = combine(groupby(essence, :Année), :Montréal => mean => :Montréal)  # On groupe les données par zone\n",
    "moy_essence[!, :Montréal] = moy_mtl.Montréal\n",
    "\n",
    "set_default_plot_size(16cm, 10cm)\n",
    "tot_annee = combine(groupby(recolte, :Année), :Cerfs => sum => :Cerfs)\n",
    "moy_essence[!, :Cerfs] = tot_annee.Cerfs\n",
    "display(moy_essence)\n",
    "plot(layer(moy_essence, x=:Québec, y=:Cerfs, Geom.line, Geom.point),\n",
    "     layer(moy_essence, x=:Montréal, y=:Cerfs, Geom.line, Geom.point))"
   ]
  },
  {
   "cell_type": "code",
   "execution_count": null,
   "id": "acab1d70",
   "metadata": {},
   "outputs": [],
   "source": [
    "\n",
    "set_default_plot_size(16cm, 10cm)\n",
    "plot(moy_essence, x=:Année, y=:Québec, Geom.line, Geom.point, Guide.xticks(ticks=1999:1:2020),\n",
    "    Guide.xlabel(\"Année\"), Guide.ylabel(\"Prix de l'essence (cents/litre)\"))"
   ]
  },
  {
   "cell_type": "code",
   "execution_count": null,
   "id": "35850f3b",
   "metadata": {},
   "outputs": [],
   "source": [
    "plot(moy_essence, x=:Année, y=:Cerfs, Geom.line, Geom.point, Guide.xticks(ticks=1999:1:2020),\n",
    "    Guide.xlabel(\"Année\"), Guide.ylabel(\"Nombre de cerfs récoltés\"))"
   ]
  },
  {
   "cell_type": "markdown",
   "id": "f827855d",
   "metadata": {},
   "source": [
    "On voit clairement une relation entre le prix de l'essence et le nombre de cerfs récoltés, cependant ce n'est pas une relation linéaire. Le nombre de Cerfs semble être affecté par des changements soundains du prix."
   ]
  },
  {
   "cell_type": "code",
   "execution_count": null,
   "id": "82521c23",
   "metadata": {},
   "outputs": [],
   "source": [
    "# Replace gas price by difference between current and previous year\n",
    "moy_essence_diff = deepcopy(moy_essence)\n",
    "\n",
    "for i = 2:size(moy_essence, 1)\n",
    "    moy_essence_diff[i, :Québec] = (moy_essence[i, :Québec] - moy_essence[i-1, :Québec])\n",
    "    moy_essence_diff[i, :Montréal] = (moy_essence[i, :Montréal] - moy_essence[i-1, :Montréal])\n",
    "end\n",
    "\n",
    "# On enlève la première année, dont on ne peut pas calculer la différence \n",
    "moy_essence_diff = moy_essence_diff[2:end, :]\n",
    "display(moy_essence_diff)"
   ]
  },
  {
   "cell_type": "code",
   "execution_count": null,
   "id": "b3e1ce24",
   "metadata": {},
   "outputs": [],
   "source": [
    "set_default_plot_size(10cm, 10cm)\n",
    "plot(\n",
    "    layer(moy_essence_diff, x=:Année, y=:Québec, Geom.line, Geom.point, Theme(default_color=colorant\"green\")),\n",
    "    layer(moy_essence, x=:Année, y=:Québec, Geom.line, Geom.point, Theme(default_color=colorant\"red\")),\n",
    ")"
   ]
  },
  {
   "cell_type": "markdown",
   "id": "90252e01",
   "metadata": {},
   "source": [
    "##### 2.4.1 Récoltes en fonction des changements du prix de l'essence, par zone"
   ]
  },
  {
   "cell_type": "code",
   "execution_count": null,
   "id": "9488733b",
   "metadata": {},
   "outputs": [],
   "source": [
    "set_default_plot_size(16cm, 10cm)\n",
    "zones = groupby(recolte, :Zone)\n",
    "\n",
    "df_essence_zone = DataFrame(Zone = Int64[], Montréal = Float64[], Cerfs= Int64[])  # On initialise un DataFrame vide\n",
    "\n",
    "for zone in zones\n",
    "    \n",
    "    # pour chaque année,\n",
    "    # on additionne le nombre de cerfs récoltés selon les différents engins de chasse\n",
    "    \n",
    "    df = combine(groupby(zone, :Année), :Cerfs => sum => :Cerfs)  \n",
    "    # remove rows from moy_essence where Année is not in df.Année\n",
    "    moy_essence_diff_zone = moy_essence_diff[findall(x -> x in df.Année, moy_essence_diff.Année), :]\n",
    "    df = df[findall(x -> x in moy_essence_diff.Année, df.Année), :]\n",
    "    df[!, :Montréal] = moy_essence_diff_zone.Montréal\n",
    "    df2 = DataFrame(Montréal = df.Montréal,\n",
    "                    Zone = fill(unique(zone.Zone)[1], size(df, 1)),\n",
    "                    Cerfs = df.Cerfs) \n",
    "    \n",
    "    append!(df_essence_zone, df2)  # On ajoute l'information au DataFrame préinitialisé \n",
    "end\n",
    "display(df_essence_zone)"
   ]
  },
  {
   "cell_type": "code",
   "execution_count": null,
   "id": "38edad4c",
   "metadata": {},
   "outputs": [],
   "source": [
    "zones = unique(df_essence_zone[!, :Zone])\n",
    "pp = Plot[]\n",
    "set_default_plot_size(16cm, 10cm)\n",
    "for i = 1:length(zones)\n",
    "    p = plot(groupby(df_essence_zone, :Zone)[i], x=:Montréal, y=:Cerfs, Geom.point, Geom.line, Guide.title(\"Zone $(groupby(new_df, :Zone)[i].Zone[1])\"))\n",
    "    push!(pp, p)\n",
    "end"
   ]
  },
  {
   "cell_type": "code",
   "execution_count": null,
   "id": "7e1421e7",
   "metadata": {},
   "outputs": [],
   "source": [
    "p = reshape(pp, (19, 1))\n",
    "\n",
    "set_default_plot_size(20cm, 200cm)\n",
    "gridstack(p)"
   ]
  },
  {
   "cell_type": "markdown",
   "id": "d2329814",
   "metadata": {},
   "source": [
    "On ne voit toujours pas une relation linéaire ou autre..."
   ]
  },
  {
   "cell_type": "markdown",
   "id": "2c423a49",
   "metadata": {},
   "source": [
    "#### 2.4.2 Relation entre changement du prix d'essence et changement du nombre de cerfs\n",
    "\n",
    "La relation visible en observant les prixs d'essence et le nombre de cerfs pourrait être plus visible en considérant aussi le changement du nombre de cerfs d'une année à l'autre."
   ]
  },
  {
   "cell_type": "code",
   "execution_count": null,
   "id": "70bf9dc6",
   "metadata": {},
   "outputs": [],
   "source": [
    "set_default_plot_size(16cm, 10cm)\n",
    "zones = groupby(recolte, :Zone)\n",
    "\n",
    "df_essence_zone = DataFrame(Zone = Int64[], Montréal = Float64[], Cerfs= Int64[])  # On initialise un DataFrame vide\n",
    "\n",
    "for zone in zones\n",
    "    \n",
    "    # pour chaque année,\n",
    "    # on additionne le nombre de cerfs récoltés selon les différents engins de chasse\n",
    "    \n",
    "    df = combine(groupby(zone, :Année), :Cerfs => sum => :Cerfs) \n",
    "    # replace Cerfs by different in Cerfs from previous year\n",
    "    for i = 2:size(df, 1)-1\n",
    "        df[i, :Cerfs] = (df[i, :Cerfs] - df[i-1, :Cerfs])\n",
    "    end \n",
    "    # remove rows from moy_essence where Année is not in df.Année\n",
    "    moy_essence_diff_zone = moy_essence_diff[findall(x -> x in df.Année, moy_essence_diff.Année), :]\n",
    "    df = df[findall(x -> x in moy_essence_diff.Année, df.Année), :]\n",
    "    df[!, :Montréal] = abs.(moy_essence_diff_zone.Montréal)\n",
    "    df2 = DataFrame(Montréal = df.Montréal,\n",
    "                    Zone = fill(unique(zone.Zone)[1], size(df, 1)),\n",
    "                    Cerfs = df.Cerfs) \n",
    "    \n",
    "    append!(df_essence_zone, df2)  # On ajoute l'information au DataFrame préinitialisé \n",
    "end\n",
    "display(df_essence_zone)"
   ]
  },
  {
   "cell_type": "code",
   "execution_count": null,
   "id": "4bba5626",
   "metadata": {},
   "outputs": [],
   "source": [
    "zones = unique(df_essence_zone[!, :Zone])\n",
    "pp = Plot[]\n",
    "set_default_plot_size(16cm, 10cm)\n",
    "for i = 1:length(zones)\n",
    "    p = plot(groupby(df_essence_zone, :Zone)[i], x=:Montréal, y=:Cerfs, Geom.point, Geom.line, Guide.title(\"Zone $(groupby(new_df, :Zone)[i].Zone[1])\"))\n",
    "    push!(pp, p)\n",
    "end"
   ]
  },
  {
   "cell_type": "code",
   "execution_count": null,
   "id": "4174a185",
   "metadata": {},
   "outputs": [],
   "source": [
    "p = reshape(pp, (19, 1))\n",
    "\n",
    "set_default_plot_size(25cm, 200cm)\n",
    "gridstack(p)"
   ]
  },
  {
   "cell_type": "markdown",
   "id": "d3cddef8",
   "metadata": {},
   "source": [
    "#### 2.5 Prix de l'essence aux alentours des périodes de chasse\n",
    "Selon https://www.quebec.ca/tourisme-et-loisirs/activites-sportives-et-de-plein-air/chasse-sportive/periodes-limites/cerf-virginie#c128335, les périodes de chasse en 2022 et 2023 semblent être limité de septembre à décembre, les prix de l'essence dans ces périodes pourraient être plus fortement relié au nombre de cerfs. Au lieu de calculer les changements du prix d'essence, il pourrait être plus intéressant d'essayer d'enlever l'effet de l'inflation annuelle, en faisant  un regression linéaire des prix par mois, et par la suite soustraire les valeurs de cette régression aux prix d'essence."
   ]
  },
  {
   "cell_type": "markdown",
   "id": "c28c9392",
   "metadata": {},
   "source": [
    "##### 2.5.1 Prix de l'essence ajusté pour l'inflation\n",
    "En effectuant une régression linéaire sur les prix d'essence par mois, on peut ajuster les prix pour l'inflation. On peut ensuite soustraire les valeurs de cette régression aux prix d'essence pour enlever l'effet de l'inflation."
   ]
  },
  {
   "cell_type": "code",
   "execution_count": null,
   "id": "a6808674",
   "metadata": {},
   "outputs": [],
   "source": [
    "# convert date to number\n",
    "function date_to_number(date)\n",
    "    return Dates.year(date) + Dates.month(date)/12 + Dates.day(date)/365\n",
    "end\n",
    "# remove rows no in october to december\n",
    "essence_chasse = essence[findall(x -> x in 10:12, Dates.month.(essence.Mois)), :]\n",
    "\n",
    "essence[!, :Date] = date_to_number.(essence[!, :Mois])\n",
    "\n",
    "essence_model = lm(@formula(Montréal ~ Date), essence)"
   ]
  },
  {
   "cell_type": "code",
   "execution_count": null,
   "id": "ac921e3e",
   "metadata": {},
   "outputs": [],
   "source": [
    "# substract value from regression from prices in Montreal \n",
    "temp_df = DataFrame(Date = essence.Date)\n",
    "essence[!, :Montréal_adjusted] = essence[!, :Montréal] - predict(essence_model, temp_df)\n",
    "display(essence)\n",
    "\n"
   ]
  },
  {
   "cell_type": "code",
   "execution_count": null,
   "id": "d1b65166",
   "metadata": {},
   "outputs": [],
   "source": [
    "B_0 = coef(essence_model)[1]\n",
    "B_1 = coef(essence_model)[2]\n",
    "set_default_plot_size(25cm, 20cm)\n",
    "plot(\n",
    "    layer(essence, x=:Date, y=:Montréal, Geom.line, Geom.point, Theme(default_color=colorant\"green\"),\n",
    "          intercept=[B_0], slope=[B_1], Geom.abline(style=:dash, color=\"red\"))\n",
    "    )"
   ]
  },
  {
   "cell_type": "code",
   "execution_count": null,
   "id": "94e944af",
   "metadata": {},
   "outputs": [],
   "source": [
    "essence[!, :Année] = Dates.year.(essence[!, :Mois])\n",
    "\n",
    "# on enlève les années sans données de récolte\n",
    "essence = essence[essence[!, :Année] .>= 1999, :]\n",
    "essence = essence[essence[!, :Année] .<= 2020, :]\n",
    "\n",
    "moy_essence = combine(groupby(essence, :Année), :Montréal_adjusted => mean => :Montréal_adjusted)\n",
    "\n",
    "set_default_plot_size(16cm, 10cm)\n",
    "tot_annee = combine(groupby(recolte, :Année), :Cerfs => sum => :Cerfs)\n",
    "moy_essence[!, :Cerfs] = tot_annee.Cerfs\n",
    "set_default_plot_size(25cm, 10cm)\n",
    "plot(layer(moy_essence, x=:Montréal_adjusted, y=:Cerfs, Geom.line, Geom.point))\n",
    "\n"
   ]
  },
  {
   "cell_type": "markdown",
   "id": "14d7c8ca",
   "metadata": {},
   "source": [
    "##### 2.5.2 Prix de l'essence ajusté avec le prix des mois précédents\n",
    "On pourrais penser qu'un changement soudain au prix de l'essence pendant la période de chasse pourrait avoir un effet sur le nombre de cerfs récoltés. On pourrait donc soustraire le prix moyen de l'essence pendant la période de chasse au prix de l'essence des mois précédents."
   ]
  },
  {
   "cell_type": "code",
   "execution_count": null,
   "id": "ef3d7b82",
   "metadata": {},
   "outputs": [],
   "source": [
    "essence_chasse = essence[findall(x -> x in 10:12, Dates.month.(essence.Mois)), :]\n",
    "essence_avant_chasse = essence[findall(x -> x in 9:9, Dates.month.(essence.Mois)), :]"
   ]
  },
  {
   "cell_type": "code",
   "execution_count": null,
   "id": "3a43e229",
   "metadata": {},
   "outputs": [],
   "source": [
    "essence[!, :Année] = Dates.year.(essence[!, :Mois])\n",
    "essence_avant_chasse[!, :Année] = Dates.year.(essence_avant_chasse[!, :Mois])\n",
    "# on enlève les années sans données de récolte\n",
    "essence = essence[essence[!, :Année] .>= 1999, :]\n",
    "essence = essence[essence[!, :Année] .<= 2020, :]\n",
    "\n",
    "moy_essence = combine(groupby(essence, :Année), :Montréal => mean => :Montréal)\n",
    "moy_essence_avant_chasse = combine(groupby(essence_avant_chasse, :Année), :Montréal => mean => :Montréal)\n",
    "\n",
    "moy_essence[!, :Montréal] -= moy_essence_avant_chasse.Montréal\n",
    "set_default_plot_size(16cm, 10cm)\n",
    "tot_annee = combine(groupby(recolte, :Année), :Cerfs => sum => :Cerfs)\n",
    "moy_essence[!, :Cerfs] = tot_annee.Cerfs\n",
    "set_default_plot_size(25cm, 10cm)\n",
    "plot(layer(moy_essence, x=:Montréal, y=:Cerfs, Geom.line, Geom.point))\n",
    "\n"
   ]
  },
  {
   "cell_type": "markdown",
   "id": "40acac13",
   "metadata": {},
   "source": [
    "On ne trouve toujours pas de relation linéaire entre le prix de l'essence et le nombre de cerfs récoltés."
   ]
  },
  {
   "cell_type": "markdown",
   "id": "28012633",
   "metadata": {},
   "source": [
    "#### 2.6 Relation entre température et nombre de cerfs récoltés"
   ]
  },
  {
   "cell_type": "markdown",
   "id": "f32e9457",
   "metadata": {},
   "source": [
    "##### 2.6.1 Température moyenne en période de chasse"
   ]
  },
  {
   "cell_type": "code",
   "execution_count": null,
   "id": "f1212166",
   "metadata": {},
   "outputs": [],
   "source": [
    "meteo_new = deepcopy(meteo[findall(x -> x in 10:12, Dates.month.(meteo.Date)), :])\n",
    "# remove rows with missing temperature\n",
    "meteo_new = meteo_new[.!ismissing.(meteo_new.MeanTemp), :]\n"
   ]
  },
  {
   "cell_type": "code",
   "execution_count": null,
   "id": "8329d164",
   "metadata": {},
   "outputs": [],
   "source": [
    "meteo_new[!, :Date] = Dates.year.(meteo_new[!, :Date])\n",
    "# on enlève les années sans données de récolte\n",
    "meteo_new = meteo_new[meteo_new[!, :Date] .>= 1999, :]\n",
    "meteo_new = meteo_new[meteo_new[!, :Date] .<= 2020, :]\n",
    "\n",
    "meteo_new = combine(groupby(meteo_new, :Date), :MeanTemp => mean => :MeanTemp)\n",
    "# set_default_plot_size(16cm, 10cm)\n",
    "# tot_annee = combine(groupby(recolte, :Année), :Cerfs => sum => :Cerfs)\n",
    "# # on a pas les données de température pour 2013, on enlève l'année\n",
    "# tot_annee = tot_annee[tot_annee[!, :Année] .!= 2013, :]\n",
    "# display(meteo)\n",
    "# display(tot_annee)\n",
    "# meteo[!, :Cerfs] = tot_annee.Cerfs\n",
    "\n",
    "# set_default_plot_size(25cm, 10cm)\n",
    "# plot(layer(meteo, x=:MeanTemp, y=:Cerfs, Geom.line, Geom.point))\n",
    "\n",
    "#########\n",
    "zones = groupby(recolte, :Zone)\n",
    "\n",
    "df_temp_zone = DataFrame(Zone = Int64[], Temp = Float64[], Cerfs = Int64[])  # On initialise un DataFrame vide\n",
    "\n",
    "for zone in zones\n",
    "    \n",
    "    # pour chaque année,\n",
    "    # on additionne le nombre de cerfs récoltés selon les différents engins de chasse\n",
    "    \n",
    "    df = combine(groupby(zone, :Année), :Cerfs => sum => :Cerfs) \n",
    "\n",
    "    # on a pas les données de température pour 2013, on enlève l'année\n",
    "    df = df[df[!, :Année] .!= 2013, :]\n",
    "    meteo_new_temp = meteo_new[findall(x -> x in df.Année, meteo_new.Date), :]\n",
    "    df2 = DataFrame(Zone = fill(unique(zone.Zone)[1], size(df, 1)),\n",
    "                    Temp = meteo_new_temp.MeanTemp,\n",
    "                    Cerfs = df.Cerfs) \n",
    "    \n",
    "    append!(df_temp_zone, df2)  # On ajoute l'information au DataFrame préinitialisé \n",
    "end"
   ]
  },
  {
   "cell_type": "code",
   "execution_count": null,
   "id": "891b9b37",
   "metadata": {},
   "outputs": [],
   "source": [
    "zones = unique(df_temp_zone[!, :Zone])\n",
    "pp = Plot[]\n",
    "set_default_plot_size(16cm, 10cm)\n",
    "for i = 1:length(zones)\n",
    "    p = plot(groupby(df_temp_zone, :Zone)[i], x=:Temp, y=:Cerfs, Geom.point, Geom.line, Guide.title(\"Zone $(groupby(new_df, :Zone)[i].Zone[1])\"))\n",
    "    push!(pp, p)\n",
    "end\n",
    "\n",
    "p = reshape(pp, (19, 1))\n",
    "\n",
    "set_default_plot_size(25cm, 200cm)\n",
    "gridstack(p)"
   ]
  },
  {
   "cell_type": "markdown",
   "id": "a3cb9892",
   "metadata": {},
   "source": [
    "##### 2.6.2 Nombre de jours avec une température moyenne en dessous de -10°C l'an dernier\n",
    "\n",
    "Un hiver plus froid pourrait avoir un effet sur le nombre de cerfs récoltés l'année suivante."
   ]
  },
  {
   "cell_type": "code",
   "execution_count": null,
   "id": "67f9ea78",
   "metadata": {},
   "outputs": [],
   "source": [
    "meteo_count = deepcopy(meteo)\n",
    "meteo_count[!, :Date] = Dates.year.(meteo_count[!, :Date])\n",
    "meteo_count = meteo_count[meteo_count[!, :Date] .>= 1998, :]\n",
    "meteo_count = meteo_count[meteo_count[!, :Date] .<= 2019, :]"
   ]
  },
  {
   "cell_type": "markdown",
   "id": "b15c78aa",
   "metadata": {},
   "source": [
    "---\n",
    "## 3. Ajustement d'un modèle de régression linéaire simple\n",
    "\n",
    "Pour cet exemple simple, on n'utilise que l'année comme variable explicative afin d'ajuster un modèle de régression linéaire pour chaque zone de chasse."
   ]
  },
  {
   "cell_type": "markdown",
   "id": "2ab81a0e",
   "metadata": {},
   "source": [
    "#### 3.1. Ajustement des modèles "
   ]
  },
  {
   "cell_type": "code",
   "execution_count": null,
   "id": "dded0d62",
   "metadata": {},
   "outputs": [],
   "source": [
    "models = DataFrame(Zone = Int64[], β̂₀ = Float64[], β̂₁ = Float64[])  # On initialise le DataFrame vide\n",
    "\n",
    "zones = groupby(new_df, :Zone)  # On groupe les données par zone\n",
    "for zone in zones  # Pour chaque zone de chasse,\n",
    "\n",
    "    y = zone.Cerfs\n",
    "    n = length(y)\n",
    "    \n",
    "    x₁ = zone.Année  # On considère l'année seulement\n",
    "    X = hcat(ones(n), x₁)\n",
    "\n",
    "    β̂₀, β̂₁=  X'X\\X'y  # Estimation des coefficients de régression\n",
    "    \n",
    "    push!(models, [zone.Zone[1], β̂₀, β̂₁])  # On ajoute ça au DataFame\n",
    "end\n",
    "\n",
    "models"
   ]
  },
  {
   "cell_type": "markdown",
   "id": "7021a873",
   "metadata": {},
   "source": [
    "#### 3.2. Validation graphique\n",
    "\n",
    "Pour avoir un aperçu de la qualité de la regression, on ajoute la droite de régression."
   ]
  },
  {
   "cell_type": "code",
   "execution_count": null,
   "id": "50916fd7",
   "metadata": {},
   "outputs": [],
   "source": [
    "function f(x, i) \n",
    "    models[i, :β̂₀] + x * models[i, :β̂₁]\n",
    "end\n"
   ]
  },
  {
   "cell_type": "code",
   "execution_count": null,
   "id": "c0b7302a",
   "metadata": {},
   "outputs": [],
   "source": [
    "zones = unique(new_df[!, :Zone])\n",
    "\n",
    "pp = Plot[]\n",
    "\n",
    "set_default_plot_size(10cm, 6cm)\n",
    "for i = 1:length(zones)\n",
    "    p = plot(\n",
    "            layer(groupby(new_df, :Zone)[i], x=:Année, y=:Cerfs, Geom.point, Geom.line,\n",
    "            intercept=[models[i, :β̂₀]], slope=[models[i, :β̂₁]], Geom.abline(style=:dash, color=\"red\")),\n",
    "            layer(x -> f(x, i), 1999, 2021))\n",
    "    push!(pp, p)\n",
    "end"
   ]
  },
  {
   "cell_type": "code",
   "execution_count": null,
   "id": "fe7f4986",
   "metadata": {},
   "outputs": [],
   "source": [
    "# Pour afficher les 4 premières zones \n",
    "\n",
    "p = reshape(pp, (19,1))\n",
    "\n",
    "set_default_plot_size(25cm, 100cm)\n",
    "gridstack(p)"
   ]
  },
  {
   "cell_type": "markdown",
   "id": "a211c7f8",
   "metadata": {},
   "source": [
    "---\n",
    "## 4. Estimation du nombre de cerfs mâles adultes récoltés par zone de chasse en 2021 \n",
    "\n",
    "On utilise le modèle simple de la section précédente pour estimer le nombre de cerfs récoltés pour chacune des lignes de l'ensemble de test.\n",
    "\n",
    "#### 4.1 Chargement des données de l'ensemble de test"
   ]
  },
  {
   "cell_type": "code",
   "execution_count": null,
   "id": "942eafd4",
   "metadata": {},
   "outputs": [],
   "source": [
    "test = CSV.read(\"data/test.csv\", DataFrame);\n",
    "display(test)"
   ]
  },
  {
   "cell_type": "markdown",
   "id": "c39198c9",
   "metadata": {},
   "source": [
    "#### 4.2 Estimation du nombre de cerfs récoltés pour chacune des ligne de l'ensemble de test."
   ]
  },
  {
   "cell_type": "code",
   "execution_count": null,
   "id": "fd11ac96",
   "metadata": {},
   "outputs": [],
   "source": [
    "models = models[in.(models.Zone, Ref(test.Zone)), :];  # On récupère seulement les modèles pour les zones à prévoir"
   ]
  },
  {
   "cell_type": "code",
   "execution_count": null,
   "id": "f92944b2",
   "metadata": {},
   "outputs": [],
   "source": [
    "ŷ = [Int64(ceil(f(2021, i))) for i in 1:size(test,1)];"
   ]
  },
  {
   "cell_type": "markdown",
   "id": "1759bf8f",
   "metadata": {},
   "source": [
    "#### 4.3 Préparation du fichier des préditions pour téléverser sur Kaggle\n",
    "\n",
    "Le fichier *benchmark_predictions.csv* généré peut être téléversé sur Kaggle. Il est composé d'une colonne de zones (Zone) et d'une colonne du nombre de cerfs récoltés (Cerfs)."
   ]
  },
  {
   "cell_type": "code",
   "execution_count": null,
   "id": "c68b8451",
   "metadata": {},
   "outputs": [],
   "source": [
    "prediction = DataFrame(Zone = test.Zone, Cerfs = ŷ)\n",
    "\n",
    "CSV.write(\"benchmark_predictions.csv\", prediction)"
   ]
  },
  {
   "cell_type": "markdown",
   "id": "0c152592",
   "metadata": {},
   "source": [
    "---\n",
    "## 5. Utilisation des valeurs de l'année précédente\n",
    "\n",
    "Au lieu d'utiliser l'année comme variable aléatoire, on pourrait utiliser les données de l'année précédente."
   ]
  },
  {
   "cell_type": "markdown",
   "id": "cba65896",
   "metadata": {},
   "source": [
    "### 5.1 Modèle simple avec seulement la valeur précédente"
   ]
  },
  {
   "cell_type": "code",
   "execution_count": null,
   "id": "dc358072",
   "metadata": {},
   "outputs": [],
   "source": [
    "# Keep only the rows of the last year of the dataset for each zone\n",
    "temp_df = new_df[new_df[!, :Année] .== 2020, :]\n",
    "regression_data = DataFrame(Zone = temp_df.Zone, AnneePassee = temp_df.Cerfs)"
   ]
  },
  {
   "cell_type": "markdown",
   "id": "e3db9455",
   "metadata": {},
   "source": [
    "On remarque que seulement les zones avec des données pour l'année 2020 sont à prédire, toutes sauf la zone 21, qui avait très peu de récoltes dans les autres années."
   ]
  },
  {
   "cell_type": "code",
   "execution_count": null,
   "id": "f6b34984",
   "metadata": {},
   "outputs": [],
   "source": [
    "prediction = DataFrame(Zone = regression_data.Zone, Cerfs = regression_data.AnneePassee)\n",
    "\n",
    "CSV.write(\"Charles-5.1.csv\", prediction)"
   ]
  },
  {
   "cell_type": "markdown",
   "id": "aefbad40",
   "metadata": {},
   "source": [
    "### 5.2 Modèle de régression avec valeur de l'année précédente\n",
    "\n",
    "Avant d'utiliser d'autres variables explicatives, on peut déjà essayer d'ajuster un modèle de régression linéaire avec seulement la valeur de l'année précédente."
   ]
  },
  {
   "cell_type": "code",
   "execution_count": null,
   "id": "c0cdce9c",
   "metadata": {},
   "outputs": [],
   "source": [
    "display(new_df)"
   ]
  },
  {
   "cell_type": "code",
   "execution_count": null,
   "id": "293e1cb2",
   "metadata": {},
   "outputs": [],
   "source": [
    "zones = groupby(new_df, :Zone)\n",
    "new_zones = DataFrame(Zone = Int64[], Année = Int64[], Cerfs = Int64[], CerfsAnneePassée = Int64[])\n",
    "for zone in zones\n",
    "    zone[!, :CerfsAnneePassée] .= 0\n",
    "    for i = 2:size(zone, 1)\n",
    "        zone[i, :CerfsAnneePassée] = zone[i-1, :Cerfs]\n",
    "    end\n",
    "    # on enlève la première année, dont on ne peut pas calculer la différence\n",
    "    zone = zone[2:end, :]\n",
    "    append!(new_zones, zone)\n",
    "end\n",
    "\n",
    "new_zones = groupby(new_zones, :Zone)\n",
    "display(new_zones)"
   ]
  },
  {
   "cell_type": "code",
   "execution_count": null,
   "id": "27c14cce",
   "metadata": {},
   "outputs": [],
   "source": [
    "prediction = DataFrame(Zone = Int64[], Cerfs = Int64[])\n",
    "coefficients_df = DataFrame(Zone = Int64[], β₀ = Float64[], β₁ = Float64[])\n",
    "for zone in new_zones\n",
    "    y = zone.Cerfs\n",
    "    n = length(y)\n",
    "    \n",
    "    x₁ = zone.CerfsAnneePassée\n",
    "    X = hcat(ones(n), x₁)\n",
    "\n",
    "    β̂₀, β̂₁=  X'X\\X'y  # Estimation des coefficients de régression\n",
    "    coefficients_df = vcat(coefficients_df, DataFrame(Zone = zone.Zone[1], β₀ = β̂₀, β₁ = β̂₁))\n",
    "    ŷ = Int64(ceil(β̂₀ + zone.Cerfs[end] * β̂₁))\n",
    "    push!(prediction, [zone.Zone[1], ŷ])\n",
    "end\n",
    "# for zone in zones\n",
    "#     model = lm(@formula(Cerfs ~ CerfsAnneePassée), zone)\n",
    "#     ŷ = predict(model, DataFrame(CerfsAnneePassée = [zone.Cerfs[end]]))\n",
    "#     push!(prediction, [zone.Zone[1], Int64(ceil(ŷ[1]))])\n",
    "# end\n",
    "prediction = prediction[prediction[!, :Zone] .!== 21, :]\n",
    "display(prediction)\n",
    "CSV.write(\"Charles-5.3.csv\", prediction)"
   ]
  },
  {
   "cell_type": "markdown",
   "id": "c435efb8",
   "metadata": {},
   "source": [
    "### 5.2.2 Validation graphique"
   ]
  },
  {
   "cell_type": "code",
   "execution_count": null,
   "id": "09bab7b7",
   "metadata": {},
   "outputs": [],
   "source": [
    "for (i, zone) in enumerate(new_zones)\n",
    "    zone[!, :Prediction] .= 0\n",
    "    # for j = 1:size(zone, 1)\n",
    "    #     zone[j, :Prediction] = Int64(ceil(coefficients_df[i, :β₀] + zone[j, :CerfsAnneePassée] * coefficients_df[i, :β₁]))\n",
    "    # end\n",
    "    for j = 1:size(zone, 1)\n",
    "        model = lm(@formula(Cerfs ~ CerfsAnneePassée), zone)\n",
    "        ŷ = predict(model, DataFrame(CerfsAnneePassée = [zone.CerfsAnneePassée[j]]))\n",
    "        zone[j, :Prediction] = Int64(ceil(ŷ[1]))\n",
    "    end\n",
    "end\n",
    "display(new_zones)\n",
    "    "
   ]
  },
  {
   "cell_type": "code",
   "execution_count": null,
   "id": "29c8e8f7",
   "metadata": {},
   "outputs": [],
   "source": [
    "pp = Plot[]\n",
    "\n",
    "for i = 1:length(new_zones)\n",
    "    p = plot(\n",
    "            layer(new_zones[i], x=:Année, y=:Cerfs, Geom.point, Geom.line, Theme(default_color=colorant\"green\")),\n",
    "            layer(new_zones[i], x=:Année, y=:Prediction, Geom.point, Geom.line, Theme(default_color=colorant\"red\")))\n",
    "    push!(pp, p)\n",
    "end"
   ]
  },
  {
   "cell_type": "code",
   "execution_count": null,
   "id": "fd5a1790",
   "metadata": {},
   "outputs": [],
   "source": [
    "p = reshape(pp, (19,1))\n",
    "\n",
    "set_default_plot_size(25cm, 100cm)\n",
    "gridstack(p)"
   ]
  }
 ],
 "metadata": {
  "@webio": {
   "lastCommId": null,
   "lastKernelId": null
  },
  "hide_input": false,
  "kernelspec": {
   "display_name": "Julia 1.8.0",
   "language": "julia",
   "name": "julia-1.8"
  },
  "language_info": {
   "file_extension": ".jl",
   "mimetype": "application/julia",
   "name": "julia",
   "version": "1.8.0"
  }
 },
 "nbformat": 4,
 "nbformat_minor": 5
}
